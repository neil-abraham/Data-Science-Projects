{
 "cells": [
  {
   "cell_type": "code",
   "execution_count": 2,
   "id": "35d26f15",
   "metadata": {},
   "outputs": [],
   "source": [
    "import pandas as pd\n",
    "import numpy as np\n",
    "import matplotlib.pyplot as plt\n",
    "import seaborn as sns\n",
    "\n",
    "%matplotlib inline"
   ]
  },
  {
   "cell_type": "markdown",
   "id": "4618d5ba",
   "metadata": {},
   "source": [
    "## Data Extraction and Basic Statistics"
   ]
  },
  {
   "cell_type": "code",
   "execution_count": 415,
   "id": "ea7d1e18",
   "metadata": {},
   "outputs": [],
   "source": [
    "df = pd.read_csv('Applicant-details.csv')"
   ]
  },
  {
   "cell_type": "code",
   "execution_count": 416,
   "id": "0491b8bc",
   "metadata": {},
   "outputs": [
    {
     "data": {
      "text/html": [
       "<div>\n",
       "<style scoped>\n",
       "    .dataframe tbody tr th:only-of-type {\n",
       "        vertical-align: middle;\n",
       "    }\n",
       "\n",
       "    .dataframe tbody tr th {\n",
       "        vertical-align: top;\n",
       "    }\n",
       "\n",
       "    .dataframe thead th {\n",
       "        text-align: right;\n",
       "    }\n",
       "</style>\n",
       "<table border=\"1\" class=\"dataframe\">\n",
       "  <thead>\n",
       "    <tr style=\"text-align: right;\">\n",
       "      <th></th>\n",
       "      <th>Applicant_ID</th>\n",
       "      <th>Annual_Income</th>\n",
       "      <th>Applicant_Age</th>\n",
       "      <th>Work_Experience</th>\n",
       "      <th>Marital_Status</th>\n",
       "      <th>House_Ownership</th>\n",
       "      <th>Vehicle_Ownership(car)</th>\n",
       "      <th>Occupation</th>\n",
       "      <th>Residence_City</th>\n",
       "      <th>Residence_State</th>\n",
       "      <th>Years_in_Current_Employment</th>\n",
       "      <th>Years_in_Current_Residence</th>\n",
       "      <th>Loan_Default_Risk</th>\n",
       "    </tr>\n",
       "  </thead>\n",
       "  <tbody>\n",
       "    <tr>\n",
       "      <th>69017</th>\n",
       "      <td>94023</td>\n",
       "      <td>2421544</td>\n",
       "      <td>46</td>\n",
       "      <td>17</td>\n",
       "      <td>single</td>\n",
       "      <td>rented</td>\n",
       "      <td>no</td>\n",
       "      <td>Artist</td>\n",
       "      <td>Morena</td>\n",
       "      <td>Madhya_Pradesh</td>\n",
       "      <td>6</td>\n",
       "      <td>13</td>\n",
       "      <td>0</td>\n",
       "    </tr>\n",
       "    <tr>\n",
       "      <th>26507</th>\n",
       "      <td>292</td>\n",
       "      <td>7110369</td>\n",
       "      <td>35</td>\n",
       "      <td>7</td>\n",
       "      <td>single</td>\n",
       "      <td>rented</td>\n",
       "      <td>yes</td>\n",
       "      <td>Computer_hardware_engineer</td>\n",
       "      <td>Mangalore</td>\n",
       "      <td>Karnataka</td>\n",
       "      <td>3</td>\n",
       "      <td>11</td>\n",
       "      <td>0</td>\n",
       "    </tr>\n",
       "    <tr>\n",
       "      <th>30696</th>\n",
       "      <td>19916</td>\n",
       "      <td>7452181</td>\n",
       "      <td>44</td>\n",
       "      <td>20</td>\n",
       "      <td>single</td>\n",
       "      <td>rented</td>\n",
       "      <td>yes</td>\n",
       "      <td>Dentist</td>\n",
       "      <td>Mangalore</td>\n",
       "      <td>Karnataka</td>\n",
       "      <td>13</td>\n",
       "      <td>14</td>\n",
       "      <td>0</td>\n",
       "    </tr>\n",
       "    <tr>\n",
       "      <th>81329</th>\n",
       "      <td>51731</td>\n",
       "      <td>9241052</td>\n",
       "      <td>69</td>\n",
       "      <td>2</td>\n",
       "      <td>single</td>\n",
       "      <td>rented</td>\n",
       "      <td>yes</td>\n",
       "      <td>Dentist</td>\n",
       "      <td>Thanjavur</td>\n",
       "      <td>Tamil_Nadu</td>\n",
       "      <td>2</td>\n",
       "      <td>13</td>\n",
       "      <td>1</td>\n",
       "    </tr>\n",
       "    <tr>\n",
       "      <th>33669</th>\n",
       "      <td>55839</td>\n",
       "      <td>7853718</td>\n",
       "      <td>24</td>\n",
       "      <td>8</td>\n",
       "      <td>single</td>\n",
       "      <td>rented</td>\n",
       "      <td>no</td>\n",
       "      <td>Librarian</td>\n",
       "      <td>Bahraich</td>\n",
       "      <td>Uttar_Pradesh</td>\n",
       "      <td>7</td>\n",
       "      <td>11</td>\n",
       "      <td>0</td>\n",
       "    </tr>\n",
       "  </tbody>\n",
       "</table>\n",
       "</div>"
      ],
      "text/plain": [
       "       Applicant_ID  Annual_Income  Applicant_Age  Work_Experience  \\\n",
       "69017         94023        2421544             46               17   \n",
       "26507           292        7110369             35                7   \n",
       "30696         19916        7452181             44               20   \n",
       "81329         51731        9241052             69                2   \n",
       "33669         55839        7853718             24                8   \n",
       "\n",
       "      Marital_Status House_Ownership Vehicle_Ownership(car)  \\\n",
       "69017         single          rented                     no   \n",
       "26507         single          rented                    yes   \n",
       "30696         single          rented                    yes   \n",
       "81329         single          rented                    yes   \n",
       "33669         single          rented                     no   \n",
       "\n",
       "                       Occupation Residence_City Residence_State  \\\n",
       "69017                      Artist         Morena  Madhya_Pradesh   \n",
       "26507  Computer_hardware_engineer      Mangalore       Karnataka   \n",
       "30696                     Dentist      Mangalore       Karnataka   \n",
       "81329                     Dentist      Thanjavur      Tamil_Nadu   \n",
       "33669                   Librarian       Bahraich   Uttar_Pradesh   \n",
       "\n",
       "       Years_in_Current_Employment  Years_in_Current_Residence  \\\n",
       "69017                            6                          13   \n",
       "26507                            3                          11   \n",
       "30696                           13                          14   \n",
       "81329                            2                          13   \n",
       "33669                            7                          11   \n",
       "\n",
       "       Loan_Default_Risk  \n",
       "69017                  0  \n",
       "26507                  0  \n",
       "30696                  0  \n",
       "81329                  1  \n",
       "33669                  0  "
      ]
     },
     "execution_count": 416,
     "metadata": {},
     "output_type": "execute_result"
    }
   ],
   "source": [
    "df.sample(5)"
   ]
  },
  {
   "cell_type": "code",
   "execution_count": 417,
   "id": "b8d03ef4",
   "metadata": {},
   "outputs": [
    {
     "name": "stdout",
     "output_type": "stream",
     "text": [
      "Shape: 100000 Rows, 13 Cols\n"
     ]
    }
   ],
   "source": [
    "rows, cols = df.shape\n",
    "print(f'Shape: {rows} Rows, {cols} Cols')"
   ]
  },
  {
   "cell_type": "code",
   "execution_count": 418,
   "id": "0e3b69f2",
   "metadata": {},
   "outputs": [
    {
     "data": {
      "text/plain": [
       "['Applicant_ID',\n",
       " 'Annual_Income',\n",
       " 'Applicant_Age',\n",
       " 'Work_Experience',\n",
       " 'Marital_Status',\n",
       " 'House_Ownership',\n",
       " 'Vehicle_Ownership(car)',\n",
       " 'Occupation',\n",
       " 'Residence_City',\n",
       " 'Residence_State',\n",
       " 'Years_in_Current_Employment',\n",
       " 'Years_in_Current_Residence',\n",
       " 'Loan_Default_Risk']"
      ]
     },
     "execution_count": 418,
     "metadata": {},
     "output_type": "execute_result"
    }
   ],
   "source": [
    "list(df.columns)"
   ]
  },
  {
   "cell_type": "code",
   "execution_count": 419,
   "id": "7f1c2434",
   "metadata": {},
   "outputs": [
    {
     "name": "stdout",
     "output_type": "stream",
     "text": [
      "<class 'pandas.core.frame.DataFrame'>\n",
      "RangeIndex: 100000 entries, 0 to 99999\n",
      "Data columns (total 13 columns):\n",
      " #   Column                       Non-Null Count   Dtype \n",
      "---  ------                       --------------   ----- \n",
      " 0   Applicant_ID                 100000 non-null  int64 \n",
      " 1   Annual_Income                100000 non-null  int64 \n",
      " 2   Applicant_Age                100000 non-null  int64 \n",
      " 3   Work_Experience              100000 non-null  int64 \n",
      " 4   Marital_Status               100000 non-null  object\n",
      " 5   House_Ownership              100000 non-null  object\n",
      " 6   Vehicle_Ownership(car)       100000 non-null  object\n",
      " 7   Occupation                   100000 non-null  object\n",
      " 8   Residence_City               100000 non-null  object\n",
      " 9   Residence_State              100000 non-null  object\n",
      " 10  Years_in_Current_Employment  100000 non-null  int64 \n",
      " 11  Years_in_Current_Residence   100000 non-null  int64 \n",
      " 12  Loan_Default_Risk            100000 non-null  int64 \n",
      "dtypes: int64(7), object(6)\n",
      "memory usage: 9.9+ MB\n"
     ]
    }
   ],
   "source": [
    "df.info()"
   ]
  },
  {
   "cell_type": "code",
   "execution_count": 420,
   "id": "6d97a5f2",
   "metadata": {},
   "outputs": [
    {
     "data": {
      "text/html": [
       "<div>\n",
       "<style scoped>\n",
       "    .dataframe tbody tr th:only-of-type {\n",
       "        vertical-align: middle;\n",
       "    }\n",
       "\n",
       "    .dataframe tbody tr th {\n",
       "        vertical-align: top;\n",
       "    }\n",
       "\n",
       "    .dataframe thead th {\n",
       "        text-align: right;\n",
       "    }\n",
       "</style>\n",
       "<table border=\"1\" class=\"dataframe\">\n",
       "  <thead>\n",
       "    <tr style=\"text-align: right;\">\n",
       "      <th></th>\n",
       "      <th>Applicant_ID</th>\n",
       "      <th>Annual_Income</th>\n",
       "      <th>Applicant_Age</th>\n",
       "      <th>Work_Experience</th>\n",
       "      <th>Years_in_Current_Employment</th>\n",
       "      <th>Years_in_Current_Residence</th>\n",
       "      <th>Loan_Default_Risk</th>\n",
       "    </tr>\n",
       "  </thead>\n",
       "  <tbody>\n",
       "    <tr>\n",
       "      <th>count</th>\n",
       "      <td>100000.000000</td>\n",
       "      <td>1.000000e+05</td>\n",
       "      <td>100000.000000</td>\n",
       "      <td>100000.000000</td>\n",
       "      <td>100000.000000</td>\n",
       "      <td>100000.000000</td>\n",
       "      <td>100000.000000</td>\n",
       "    </tr>\n",
       "    <tr>\n",
       "      <th>mean</th>\n",
       "      <td>50000.500000</td>\n",
       "      <td>5.001617e+06</td>\n",
       "      <td>49.995400</td>\n",
       "      <td>10.110750</td>\n",
       "      <td>6.342990</td>\n",
       "      <td>11.996020</td>\n",
       "      <td>0.129970</td>\n",
       "    </tr>\n",
       "    <tr>\n",
       "      <th>std</th>\n",
       "      <td>28867.657797</td>\n",
       "      <td>2.876394e+06</td>\n",
       "      <td>17.056051</td>\n",
       "      <td>5.996007</td>\n",
       "      <td>3.644942</td>\n",
       "      <td>1.396826</td>\n",
       "      <td>0.336272</td>\n",
       "    </tr>\n",
       "    <tr>\n",
       "      <th>min</th>\n",
       "      <td>1.000000</td>\n",
       "      <td>1.031000e+04</td>\n",
       "      <td>21.000000</td>\n",
       "      <td>0.000000</td>\n",
       "      <td>0.000000</td>\n",
       "      <td>10.000000</td>\n",
       "      <td>0.000000</td>\n",
       "    </tr>\n",
       "    <tr>\n",
       "      <th>25%</th>\n",
       "      <td>25000.750000</td>\n",
       "      <td>2.507092e+06</td>\n",
       "      <td>35.000000</td>\n",
       "      <td>5.000000</td>\n",
       "      <td>4.000000</td>\n",
       "      <td>11.000000</td>\n",
       "      <td>0.000000</td>\n",
       "    </tr>\n",
       "    <tr>\n",
       "      <th>50%</th>\n",
       "      <td>50000.500000</td>\n",
       "      <td>5.004938e+06</td>\n",
       "      <td>50.000000</td>\n",
       "      <td>10.000000</td>\n",
       "      <td>6.000000</td>\n",
       "      <td>12.000000</td>\n",
       "      <td>0.000000</td>\n",
       "    </tr>\n",
       "    <tr>\n",
       "      <th>75%</th>\n",
       "      <td>75000.250000</td>\n",
       "      <td>7.477502e+06</td>\n",
       "      <td>65.000000</td>\n",
       "      <td>15.000000</td>\n",
       "      <td>9.000000</td>\n",
       "      <td>13.000000</td>\n",
       "      <td>0.000000</td>\n",
       "    </tr>\n",
       "    <tr>\n",
       "      <th>max</th>\n",
       "      <td>100000.000000</td>\n",
       "      <td>9.999180e+06</td>\n",
       "      <td>79.000000</td>\n",
       "      <td>20.000000</td>\n",
       "      <td>14.000000</td>\n",
       "      <td>14.000000</td>\n",
       "      <td>1.000000</td>\n",
       "    </tr>\n",
       "  </tbody>\n",
       "</table>\n",
       "</div>"
      ],
      "text/plain": [
       "        Applicant_ID  Annual_Income  Applicant_Age  Work_Experience  \\\n",
       "count  100000.000000   1.000000e+05  100000.000000    100000.000000   \n",
       "mean    50000.500000   5.001617e+06      49.995400        10.110750   \n",
       "std     28867.657797   2.876394e+06      17.056051         5.996007   \n",
       "min         1.000000   1.031000e+04      21.000000         0.000000   \n",
       "25%     25000.750000   2.507092e+06      35.000000         5.000000   \n",
       "50%     50000.500000   5.004938e+06      50.000000        10.000000   \n",
       "75%     75000.250000   7.477502e+06      65.000000        15.000000   \n",
       "max    100000.000000   9.999180e+06      79.000000        20.000000   \n",
       "\n",
       "       Years_in_Current_Employment  Years_in_Current_Residence  \\\n",
       "count                100000.000000               100000.000000   \n",
       "mean                      6.342990                   11.996020   \n",
       "std                       3.644942                    1.396826   \n",
       "min                       0.000000                   10.000000   \n",
       "25%                       4.000000                   11.000000   \n",
       "50%                       6.000000                   12.000000   \n",
       "75%                       9.000000                   13.000000   \n",
       "max                      14.000000                   14.000000   \n",
       "\n",
       "       Loan_Default_Risk  \n",
       "count      100000.000000  \n",
       "mean            0.129970  \n",
       "std             0.336272  \n",
       "min             0.000000  \n",
       "25%             0.000000  \n",
       "50%             0.000000  \n",
       "75%             0.000000  \n",
       "max             1.000000  "
      ]
     },
     "execution_count": 420,
     "metadata": {},
     "output_type": "execute_result"
    }
   ],
   "source": [
    "df.describe()"
   ]
  },
  {
   "cell_type": "code",
   "execution_count": 564,
   "id": "97c6e27d",
   "metadata": {},
   "outputs": [],
   "source": [
    "# Removing the underscores\n",
    "df = df.applymap(lambda x: x.replace('_', ' ') if type(x) == str else x)\n",
    "# Removing '[]' from the dataframe\n",
    "df = df.applymap(lambda x: x[0:x.find('[')] if (type(x) == str and x.find('[') > -1) else x)"
   ]
  },
  {
   "cell_type": "code",
   "execution_count": 608,
   "id": "2a6fe1e2",
   "metadata": {},
   "outputs": [],
   "source": [
    "income_bins = [0, 500000, 1500000, 3000000, 4500000, 6000000, 8000000, float('inf')]\n",
    "income_labels = ['0 - 5L', '5L - 15L', '15L - 30L', '30L - 45L', '45L - 60L', '60L - 80L', '80L+']\n",
    "df['Income_Range'] = pd.cut(df['Annual_Income'], \n",
    "                            bins=income_bins, \n",
    "                            labels=income_labels, \n",
    "                            right=True)"
   ]
  },
  {
   "cell_type": "code",
   "execution_count": 609,
   "id": "68158f67",
   "metadata": {},
   "outputs": [
    {
     "data": {
      "text/html": [
       "<div>\n",
       "<style scoped>\n",
       "    .dataframe tbody tr th:only-of-type {\n",
       "        vertical-align: middle;\n",
       "    }\n",
       "\n",
       "    .dataframe tbody tr th {\n",
       "        vertical-align: top;\n",
       "    }\n",
       "\n",
       "    .dataframe thead th {\n",
       "        text-align: right;\n",
       "    }\n",
       "</style>\n",
       "<table border=\"1\" class=\"dataframe\">\n",
       "  <thead>\n",
       "    <tr style=\"text-align: right;\">\n",
       "      <th></th>\n",
       "      <th>Annual_Income</th>\n",
       "      <th>Applicant_Age</th>\n",
       "      <th>Work_Experience</th>\n",
       "      <th>Marital_Status</th>\n",
       "      <th>House_Ownership</th>\n",
       "      <th>Vehicle_Ownership(car)</th>\n",
       "      <th>Occupation</th>\n",
       "      <th>Residence_City</th>\n",
       "      <th>Residence_State</th>\n",
       "      <th>Years_in_Current_Employment</th>\n",
       "      <th>Years_in_Current_Residence</th>\n",
       "      <th>Loan_Default_Risk</th>\n",
       "      <th>Applicant_Age_Range</th>\n",
       "      <th>Income_Range</th>\n",
       "    </tr>\n",
       "  </thead>\n",
       "  <tbody>\n",
       "    <tr>\n",
       "      <th>6923</th>\n",
       "      <td>1391994</td>\n",
       "      <td>62</td>\n",
       "      <td>16</td>\n",
       "      <td>single</td>\n",
       "      <td>rented</td>\n",
       "      <td>yes</td>\n",
       "      <td>Police officer</td>\n",
       "      <td>Gandhidham</td>\n",
       "      <td>Gujarat</td>\n",
       "      <td>6</td>\n",
       "      <td>13</td>\n",
       "      <td>0</td>\n",
       "      <td>61-70</td>\n",
       "      <td>5L - 15L</td>\n",
       "    </tr>\n",
       "    <tr>\n",
       "      <th>45409</th>\n",
       "      <td>5270503</td>\n",
       "      <td>28</td>\n",
       "      <td>20</td>\n",
       "      <td>single</td>\n",
       "      <td>rented</td>\n",
       "      <td>yes</td>\n",
       "      <td>Microbiologist</td>\n",
       "      <td>Bangalore</td>\n",
       "      <td>Karnataka</td>\n",
       "      <td>9</td>\n",
       "      <td>13</td>\n",
       "      <td>0</td>\n",
       "      <td>18-30</td>\n",
       "      <td>45L - 60L</td>\n",
       "    </tr>\n",
       "    <tr>\n",
       "      <th>85811</th>\n",
       "      <td>3337437</td>\n",
       "      <td>67</td>\n",
       "      <td>5</td>\n",
       "      <td>single</td>\n",
       "      <td>rented</td>\n",
       "      <td>no</td>\n",
       "      <td>Comedian</td>\n",
       "      <td>Ichalkaranji</td>\n",
       "      <td>Maharashtra</td>\n",
       "      <td>5</td>\n",
       "      <td>14</td>\n",
       "      <td>0</td>\n",
       "      <td>61-70</td>\n",
       "      <td>30L - 45L</td>\n",
       "    </tr>\n",
       "    <tr>\n",
       "      <th>58722</th>\n",
       "      <td>7910818</td>\n",
       "      <td>25</td>\n",
       "      <td>14</td>\n",
       "      <td>single</td>\n",
       "      <td>owned</td>\n",
       "      <td>no</td>\n",
       "      <td>Graphic Designer</td>\n",
       "      <td>Medininagar</td>\n",
       "      <td>Jharkhand</td>\n",
       "      <td>10</td>\n",
       "      <td>10</td>\n",
       "      <td>0</td>\n",
       "      <td>18-30</td>\n",
       "      <td>60L - 80L</td>\n",
       "    </tr>\n",
       "    <tr>\n",
       "      <th>8194</th>\n",
       "      <td>4126991</td>\n",
       "      <td>66</td>\n",
       "      <td>3</td>\n",
       "      <td>single</td>\n",
       "      <td>rented</td>\n",
       "      <td>no</td>\n",
       "      <td>Microbiologist</td>\n",
       "      <td>Nagaon</td>\n",
       "      <td>Assam</td>\n",
       "      <td>3</td>\n",
       "      <td>12</td>\n",
       "      <td>0</td>\n",
       "      <td>61-70</td>\n",
       "      <td>30L - 45L</td>\n",
       "    </tr>\n",
       "  </tbody>\n",
       "</table>\n",
       "</div>"
      ],
      "text/plain": [
       "       Annual_Income  Applicant_Age  Work_Experience Marital_Status  \\\n",
       "6923         1391994             62               16         single   \n",
       "45409        5270503             28               20         single   \n",
       "85811        3337437             67                5         single   \n",
       "58722        7910818             25               14         single   \n",
       "8194         4126991             66                3         single   \n",
       "\n",
       "      House_Ownership Vehicle_Ownership(car)        Occupation Residence_City  \\\n",
       "6923           rented                    yes    Police officer     Gandhidham   \n",
       "45409          rented                    yes    Microbiologist      Bangalore   \n",
       "85811          rented                     no          Comedian   Ichalkaranji   \n",
       "58722           owned                     no  Graphic Designer    Medininagar   \n",
       "8194           rented                     no    Microbiologist         Nagaon   \n",
       "\n",
       "      Residence_State  Years_in_Current_Employment  \\\n",
       "6923          Gujarat                            6   \n",
       "45409       Karnataka                            9   \n",
       "85811     Maharashtra                            5   \n",
       "58722       Jharkhand                           10   \n",
       "8194            Assam                            3   \n",
       "\n",
       "       Years_in_Current_Residence  Loan_Default_Risk Applicant_Age_Range  \\\n",
       "6923                           13                  0               61-70   \n",
       "45409                          13                  0               18-30   \n",
       "85811                          14                  0               61-70   \n",
       "58722                          10                  0               18-30   \n",
       "8194                           12                  0               61-70   \n",
       "\n",
       "      Income_Range  \n",
       "6923      5L - 15L  \n",
       "45409    45L - 60L  \n",
       "85811    30L - 45L  \n",
       "58722    60L - 80L  \n",
       "8194     30L - 45L  "
      ]
     },
     "execution_count": 609,
     "metadata": {},
     "output_type": "execute_result"
    }
   ],
   "source": [
    "df.sample(5)"
   ]
  },
  {
   "cell_type": "code",
   "execution_count": 610,
   "id": "43087fd7",
   "metadata": {},
   "outputs": [],
   "source": [
    "def age_group(data):\n",
    "    if data < 18:\n",
    "        return \"0-18\"\n",
    "    elif data <= 30:\n",
    "        return \"18-30\"\n",
    "    elif data <= 40:\n",
    "        return \"31-40\"\n",
    "    elif data <= 50:\n",
    "        return \"41-50\"\n",
    "    elif data <= 60:\n",
    "        return \"51-60\"\n",
    "    elif data <= 70:\n",
    "        return \"61-70\"\n",
    "    elif data <= 80:\n",
    "        return \"71-80\"\n",
    "    elif data <= 90:\n",
    "        return \"81-90\"\n",
    "    else:\n",
    "        return \"91+\""
   ]
  },
  {
   "cell_type": "code",
   "execution_count": 611,
   "id": "aaa5a15f",
   "metadata": {},
   "outputs": [],
   "source": [
    "df['Applicant_Age_Range'] = df['Applicant_Age'].map(age_group)"
   ]
  },
  {
   "cell_type": "code",
   "execution_count": 612,
   "id": "8d9cd3ac",
   "metadata": {},
   "outputs": [
    {
     "data": {
      "text/html": [
       "<div>\n",
       "<style scoped>\n",
       "    .dataframe tbody tr th:only-of-type {\n",
       "        vertical-align: middle;\n",
       "    }\n",
       "\n",
       "    .dataframe tbody tr th {\n",
       "        vertical-align: top;\n",
       "    }\n",
       "\n",
       "    .dataframe thead th {\n",
       "        text-align: right;\n",
       "    }\n",
       "</style>\n",
       "<table border=\"1\" class=\"dataframe\">\n",
       "  <thead>\n",
       "    <tr style=\"text-align: right;\">\n",
       "      <th></th>\n",
       "      <th>Annual_Income</th>\n",
       "      <th>Applicant_Age</th>\n",
       "      <th>Work_Experience</th>\n",
       "      <th>Marital_Status</th>\n",
       "      <th>House_Ownership</th>\n",
       "      <th>Vehicle_Ownership(car)</th>\n",
       "      <th>Occupation</th>\n",
       "      <th>Residence_City</th>\n",
       "      <th>Residence_State</th>\n",
       "      <th>Years_in_Current_Employment</th>\n",
       "      <th>Years_in_Current_Residence</th>\n",
       "      <th>Loan_Default_Risk</th>\n",
       "      <th>Applicant_Age_Range</th>\n",
       "      <th>Income_Range</th>\n",
       "    </tr>\n",
       "  </thead>\n",
       "  <tbody>\n",
       "    <tr>\n",
       "      <th>25408</th>\n",
       "      <td>2207248</td>\n",
       "      <td>49</td>\n",
       "      <td>19</td>\n",
       "      <td>single</td>\n",
       "      <td>rented</td>\n",
       "      <td>yes</td>\n",
       "      <td>Design Engineer</td>\n",
       "      <td>Raipur</td>\n",
       "      <td>Chhattisgarh</td>\n",
       "      <td>3</td>\n",
       "      <td>12</td>\n",
       "      <td>0</td>\n",
       "      <td>41-50</td>\n",
       "      <td>15L - 30L</td>\n",
       "    </tr>\n",
       "    <tr>\n",
       "      <th>69549</th>\n",
       "      <td>2157311</td>\n",
       "      <td>78</td>\n",
       "      <td>14</td>\n",
       "      <td>single</td>\n",
       "      <td>rented</td>\n",
       "      <td>no</td>\n",
       "      <td>Chef</td>\n",
       "      <td>Sonipat</td>\n",
       "      <td>Haryana</td>\n",
       "      <td>6</td>\n",
       "      <td>12</td>\n",
       "      <td>1</td>\n",
       "      <td>71-80</td>\n",
       "      <td>15L - 30L</td>\n",
       "    </tr>\n",
       "    <tr>\n",
       "      <th>47512</th>\n",
       "      <td>6256451</td>\n",
       "      <td>41</td>\n",
       "      <td>2</td>\n",
       "      <td>single</td>\n",
       "      <td>rented</td>\n",
       "      <td>yes</td>\n",
       "      <td>Software Developer</td>\n",
       "      <td>Bhubaneswar</td>\n",
       "      <td>Odisha</td>\n",
       "      <td>2</td>\n",
       "      <td>12</td>\n",
       "      <td>0</td>\n",
       "      <td>41-50</td>\n",
       "      <td>60L - 80L</td>\n",
       "    </tr>\n",
       "    <tr>\n",
       "      <th>94928</th>\n",
       "      <td>3246861</td>\n",
       "      <td>79</td>\n",
       "      <td>2</td>\n",
       "      <td>single</td>\n",
       "      <td>rented</td>\n",
       "      <td>yes</td>\n",
       "      <td>Aviator</td>\n",
       "      <td>Adoni</td>\n",
       "      <td>Andhra Pradesh</td>\n",
       "      <td>2</td>\n",
       "      <td>13</td>\n",
       "      <td>0</td>\n",
       "      <td>71-80</td>\n",
       "      <td>30L - 45L</td>\n",
       "    </tr>\n",
       "    <tr>\n",
       "      <th>68393</th>\n",
       "      <td>1714140</td>\n",
       "      <td>27</td>\n",
       "      <td>10</td>\n",
       "      <td>single</td>\n",
       "      <td>rented</td>\n",
       "      <td>yes</td>\n",
       "      <td>Politician</td>\n",
       "      <td>Howrah</td>\n",
       "      <td>West Bengal</td>\n",
       "      <td>10</td>\n",
       "      <td>10</td>\n",
       "      <td>0</td>\n",
       "      <td>18-30</td>\n",
       "      <td>15L - 30L</td>\n",
       "    </tr>\n",
       "  </tbody>\n",
       "</table>\n",
       "</div>"
      ],
      "text/plain": [
       "       Annual_Income  Applicant_Age  Work_Experience Marital_Status  \\\n",
       "25408        2207248             49               19         single   \n",
       "69549        2157311             78               14         single   \n",
       "47512        6256451             41                2         single   \n",
       "94928        3246861             79                2         single   \n",
       "68393        1714140             27               10         single   \n",
       "\n",
       "      House_Ownership Vehicle_Ownership(car)          Occupation  \\\n",
       "25408          rented                    yes     Design Engineer   \n",
       "69549          rented                     no                Chef   \n",
       "47512          rented                    yes  Software Developer   \n",
       "94928          rented                    yes             Aviator   \n",
       "68393          rented                    yes          Politician   \n",
       "\n",
       "      Residence_City Residence_State  Years_in_Current_Employment  \\\n",
       "25408         Raipur    Chhattisgarh                            3   \n",
       "69549        Sonipat         Haryana                            6   \n",
       "47512    Bhubaneswar          Odisha                            2   \n",
       "94928          Adoni  Andhra Pradesh                            2   \n",
       "68393         Howrah     West Bengal                           10   \n",
       "\n",
       "       Years_in_Current_Residence  Loan_Default_Risk Applicant_Age_Range  \\\n",
       "25408                          12                  0               41-50   \n",
       "69549                          12                  1               71-80   \n",
       "47512                          12                  0               41-50   \n",
       "94928                          13                  0               71-80   \n",
       "68393                          10                  0               18-30   \n",
       "\n",
       "      Income_Range  \n",
       "25408    15L - 30L  \n",
       "69549    15L - 30L  \n",
       "47512    60L - 80L  \n",
       "94928    30L - 45L  \n",
       "68393    15L - 30L  "
      ]
     },
     "execution_count": 612,
     "metadata": {},
     "output_type": "execute_result"
    }
   ],
   "source": [
    "df.sample(5)"
   ]
  },
  {
   "cell_type": "code",
   "execution_count": 613,
   "id": "20203c99",
   "metadata": {},
   "outputs": [
    {
     "data": {
      "text/plain": [
       "[]"
      ]
     },
     "execution_count": 613,
     "metadata": {},
     "output_type": "execute_result"
    },
    {
     "data": {
      "image/png": "[encoded data removed]",
      "text/plain": [
       "<Figure size 576x432 with 2 Axes>"
      ]
     },
     "metadata": {
      "needs_background": "light"
     },
     "output_type": "display_data"
    }
   ],
   "source": [
    "plt.figure(figsize=(8, 6))\n",
    "plt.title('Correlation Heatmap')\n",
    "sns.heatmap(df.corr(), annot=True, fmt=\"0.2f\", cmap='crest')\n",
    "plt.plot()"
   ]
  },
  {
   "cell_type": "code",
   "execution_count": 646,
   "id": "061980e9",
   "metadata": {},
   "outputs": [
    {
     "data": {
      "text/plain": [
       "Gandhidham               79\n",
       "Ahmedabad                64\n",
       "Bhavnagar                61\n",
       "Vadodara                 60\n",
       "Junagadh                 50\n",
       "Nadiad                   44\n",
       "Anand                    43\n",
       "Surendranagar Dudhrej    40\n",
       "Morbi                    36\n",
       "Jamnagar                 34\n",
       "Surat                    33\n",
       "Rajkot                   33\n",
       "Mehsana                  12\n",
       "Name: Residence_City, dtype: int64"
      ]
     },
     "execution_count": 646,
     "metadata": {},
     "output_type": "execute_result"
    }
   ],
   "source": [
    "df[(df['Residence_State'] == 'Gujarat') & (df['Loan_Default_Risk'] == 1)]['Residence_City'].value_counts()"
   ]
  },
  {
   "cell_type": "code",
   "execution_count": 615,
   "id": "0a6d747d",
   "metadata": {},
   "outputs": [
    {
     "data": {
      "text/html": [
       "<div>\n",
       "<style scoped>\n",
       "    .dataframe tbody tr th:only-of-type {\n",
       "        vertical-align: middle;\n",
       "    }\n",
       "\n",
       "    .dataframe tbody tr th {\n",
       "        vertical-align: top;\n",
       "    }\n",
       "\n",
       "    .dataframe thead th {\n",
       "        text-align: right;\n",
       "    }\n",
       "</style>\n",
       "<table border=\"1\" class=\"dataframe\">\n",
       "  <thead>\n",
       "    <tr style=\"text-align: right;\">\n",
       "      <th></th>\n",
       "      <th>Annual_Income</th>\n",
       "      <th>Applicant_Age</th>\n",
       "      <th>Work_Experience</th>\n",
       "      <th>Marital_Status</th>\n",
       "      <th>House_Ownership</th>\n",
       "      <th>Vehicle_Ownership(car)</th>\n",
       "      <th>Occupation</th>\n",
       "      <th>Residence_City</th>\n",
       "      <th>Residence_State</th>\n",
       "      <th>Years_in_Current_Employment</th>\n",
       "      <th>Years_in_Current_Residence</th>\n",
       "      <th>Loan_Default_Risk</th>\n",
       "      <th>Applicant_Age_Range</th>\n",
       "      <th>Income_Range</th>\n",
       "    </tr>\n",
       "  </thead>\n",
       "  <tbody>\n",
       "    <tr>\n",
       "      <th>38120</th>\n",
       "      <td>5867006</td>\n",
       "      <td>21</td>\n",
       "      <td>3</td>\n",
       "      <td>single</td>\n",
       "      <td>rented</td>\n",
       "      <td>no</td>\n",
       "      <td>Technology specialist</td>\n",
       "      <td>Miryalaguda</td>\n",
       "      <td>Telangana</td>\n",
       "      <td>3</td>\n",
       "      <td>11</td>\n",
       "      <td>0</td>\n",
       "      <td>18-30</td>\n",
       "      <td>45L - 60L</td>\n",
       "    </tr>\n",
       "    <tr>\n",
       "      <th>15405</th>\n",
       "      <td>3142984</td>\n",
       "      <td>22</td>\n",
       "      <td>13</td>\n",
       "      <td>single</td>\n",
       "      <td>rented</td>\n",
       "      <td>no</td>\n",
       "      <td>Chef</td>\n",
       "      <td>Haridwar</td>\n",
       "      <td>Uttarakhand</td>\n",
       "      <td>10</td>\n",
       "      <td>12</td>\n",
       "      <td>1</td>\n",
       "      <td>18-30</td>\n",
       "      <td>30L - 45L</td>\n",
       "    </tr>\n",
       "    <tr>\n",
       "      <th>56801</th>\n",
       "      <td>8378891</td>\n",
       "      <td>40</td>\n",
       "      <td>10</td>\n",
       "      <td>single</td>\n",
       "      <td>rented</td>\n",
       "      <td>no</td>\n",
       "      <td>Chemical engineer</td>\n",
       "      <td>Pali</td>\n",
       "      <td>Rajasthan</td>\n",
       "      <td>9</td>\n",
       "      <td>12</td>\n",
       "      <td>0</td>\n",
       "      <td>31-40</td>\n",
       "      <td>80L+</td>\n",
       "    </tr>\n",
       "    <tr>\n",
       "      <th>98233</th>\n",
       "      <td>7505547</td>\n",
       "      <td>48</td>\n",
       "      <td>5</td>\n",
       "      <td>single</td>\n",
       "      <td>rented</td>\n",
       "      <td>no</td>\n",
       "      <td>Financial Analyst</td>\n",
       "      <td>New Delhi</td>\n",
       "      <td>Delhi</td>\n",
       "      <td>5</td>\n",
       "      <td>10</td>\n",
       "      <td>0</td>\n",
       "      <td>41-50</td>\n",
       "      <td>60L - 80L</td>\n",
       "    </tr>\n",
       "    <tr>\n",
       "      <th>71090</th>\n",
       "      <td>8019114</td>\n",
       "      <td>73</td>\n",
       "      <td>17</td>\n",
       "      <td>single</td>\n",
       "      <td>rented</td>\n",
       "      <td>no</td>\n",
       "      <td>Artist</td>\n",
       "      <td>Srinagar</td>\n",
       "      <td>Jammu and Kashmir</td>\n",
       "      <td>9</td>\n",
       "      <td>14</td>\n",
       "      <td>0</td>\n",
       "      <td>71-80</td>\n",
       "      <td>80L+</td>\n",
       "    </tr>\n",
       "  </tbody>\n",
       "</table>\n",
       "</div>"
      ],
      "text/plain": [
       "       Annual_Income  Applicant_Age  Work_Experience Marital_Status  \\\n",
       "38120        5867006             21                3         single   \n",
       "15405        3142984             22               13         single   \n",
       "56801        8378891             40               10         single   \n",
       "98233        7505547             48                5         single   \n",
       "71090        8019114             73               17         single   \n",
       "\n",
       "      House_Ownership Vehicle_Ownership(car)             Occupation  \\\n",
       "38120          rented                     no  Technology specialist   \n",
       "15405          rented                     no                   Chef   \n",
       "56801          rented                     no      Chemical engineer   \n",
       "98233          rented                     no      Financial Analyst   \n",
       "71090          rented                     no                 Artist   \n",
       "\n",
       "      Residence_City    Residence_State  Years_in_Current_Employment  \\\n",
       "38120    Miryalaguda          Telangana                            3   \n",
       "15405       Haridwar        Uttarakhand                           10   \n",
       "56801           Pali          Rajasthan                            9   \n",
       "98233      New Delhi              Delhi                            5   \n",
       "71090       Srinagar  Jammu and Kashmir                            9   \n",
       "\n",
       "       Years_in_Current_Residence  Loan_Default_Risk Applicant_Age_Range  \\\n",
       "38120                          11                  0               18-30   \n",
       "15405                          12                  1               18-30   \n",
       "56801                          12                  0               31-40   \n",
       "98233                          10                  0               41-50   \n",
       "71090                          14                  0               71-80   \n",
       "\n",
       "      Income_Range  \n",
       "38120    45L - 60L  \n",
       "15405    30L - 45L  \n",
       "56801         80L+  \n",
       "98233    60L - 80L  \n",
       "71090         80L+  "
      ]
     },
     "execution_count": 615,
     "metadata": {},
     "output_type": "execute_result"
    }
   ],
   "source": [
    "# Dropping Applicant ID because its not needed\n",
    "if 'Applicant_ID' in df.columns:\n",
    "    df = df.drop(['Applicant_ID'], axis=1)\n",
    "df.sample(5)"
   ]
  },
  {
   "cell_type": "code",
   "execution_count": 616,
   "id": "a4374af9",
   "metadata": {},
   "outputs": [
    {
     "data": {
      "text/html": [
       "<div>\n",
       "<style scoped>\n",
       "    .dataframe tbody tr th:only-of-type {\n",
       "        vertical-align: middle;\n",
       "    }\n",
       "\n",
       "    .dataframe tbody tr th {\n",
       "        vertical-align: top;\n",
       "    }\n",
       "\n",
       "    .dataframe thead th {\n",
       "        text-align: right;\n",
       "    }\n",
       "</style>\n",
       "<table border=\"1\" class=\"dataframe\">\n",
       "  <thead>\n",
       "    <tr style=\"text-align: right;\">\n",
       "      <th></th>\n",
       "      <th>Loan_Default_Risk</th>\n",
       "      <th>Count</th>\n",
       "    </tr>\n",
       "  </thead>\n",
       "  <tbody>\n",
       "    <tr>\n",
       "      <th>0</th>\n",
       "      <td>0</td>\n",
       "      <td>87003</td>\n",
       "    </tr>\n",
       "    <tr>\n",
       "      <th>1</th>\n",
       "      <td>1</td>\n",
       "      <td>12997</td>\n",
       "    </tr>\n",
       "  </tbody>\n",
       "</table>\n",
       "</div>"
      ],
      "text/plain": [
       "   Loan_Default_Risk  Count\n",
       "0                  0  87003\n",
       "1                  1  12997"
      ]
     },
     "execution_count": 616,
     "metadata": {},
     "output_type": "execute_result"
    }
   ],
   "source": [
    "risk = df['Loan_Default_Risk'].value_counts().reset_index()\n",
    "risk.columns = ['Loan_Default_Risk', 'Count']\n",
    "risk"
   ]
  },
  {
   "cell_type": "markdown",
   "id": "d88141bc",
   "metadata": {},
   "source": [
    "## Geographical Analysis"
   ]
  },
  {
   "cell_type": "code",
   "execution_count": 617,
   "id": "37bf917d",
   "metadata": {},
   "outputs": [
    {
     "data": {
      "text/html": [
       "<div>\n",
       "<style scoped>\n",
       "    .dataframe tbody tr th:only-of-type {\n",
       "        vertical-align: middle;\n",
       "    }\n",
       "\n",
       "    .dataframe tbody tr th {\n",
       "        vertical-align: top;\n",
       "    }\n",
       "\n",
       "    .dataframe thead th {\n",
       "        text-align: right;\n",
       "    }\n",
       "</style>\n",
       "<table border=\"1\" class=\"dataframe\">\n",
       "  <thead>\n",
       "    <tr style=\"text-align: right;\">\n",
       "      <th></th>\n",
       "      <th>Residence_State</th>\n",
       "      <th>Residence_City</th>\n",
       "      <th>Loan_Default_Risk</th>\n",
       "    </tr>\n",
       "  </thead>\n",
       "  <tbody>\n",
       "    <tr>\n",
       "      <th>128</th>\n",
       "      <td>Kerala</td>\n",
       "      <td>Kochi</td>\n",
       "      <td>119</td>\n",
       "    </tr>\n",
       "    <tr>\n",
       "      <th>147</th>\n",
       "      <td>Madhya Pradesh</td>\n",
       "      <td>Satna</td>\n",
       "      <td>111</td>\n",
       "    </tr>\n",
       "    <tr>\n",
       "      <th>45</th>\n",
       "      <td>Bihar</td>\n",
       "      <td>Buxar</td>\n",
       "      <td>109</td>\n",
       "    </tr>\n",
       "    <tr>\n",
       "      <th>140</th>\n",
       "      <td>Madhya Pradesh</td>\n",
       "      <td>Indore</td>\n",
       "      <td>106</td>\n",
       "    </tr>\n",
       "    <tr>\n",
       "      <th>102</th>\n",
       "      <td>Jammu and Kashmir</td>\n",
       "      <td>Srinagar</td>\n",
       "      <td>105</td>\n",
       "    </tr>\n",
       "  </tbody>\n",
       "</table>\n",
       "</div>"
      ],
      "text/plain": [
       "       Residence_State Residence_City  Loan_Default_Risk\n",
       "128             Kerala          Kochi                119\n",
       "147     Madhya Pradesh          Satna                111\n",
       "45               Bihar          Buxar                109\n",
       "140     Madhya Pradesh         Indore                106\n",
       "102  Jammu and Kashmir       Srinagar                105"
      ]
     },
     "execution_count": 617,
     "metadata": {},
     "output_type": "execute_result"
    }
   ],
   "source": [
    "# Cities and total loan default risks\n",
    "cities = df[df['Loan_Default_Risk'] == 1].groupby(by=['Residence_State', 'Residence_City'])['Loan_Default_Risk'].count().reset_index().sort_values(by='Loan_Default_Risk', ascending = False)\n",
    "cities.head()"
   ]
  },
  {
   "cell_type": "markdown",
   "id": "c6dc7a9c",
   "metadata": {},
   "source": [
    "### Comparison of States and Total Loan applications"
   ]
  },
  {
   "cell_type": "code",
   "execution_count": 664,
   "id": "447a0719",
   "metadata": {},
   "outputs": [
    {
     "data": {
      "image/png": "[encoded data removed]",
      "text/plain": [
       "<Figure size 1224x432 with 1 Axes>"
      ]
     },
     "metadata": {
      "needs_background": "light"
     },
     "output_type": "display_data"
    }
   ],
   "source": [
    "plt.figure(figsize=(17, 6))\n",
    "sns.countplot(x='Residence_State', data=df, order=df['Residence_State'].value_counts().index)\n",
    "plt.xticks(rotation=90)\n",
    "plt.title('Counts of Loan Application per State', pad=10)\n",
    "plt.xlabel('State')\n",
    "plt.ylabel('Application Count')\n",
    "plt.show()"
   ]
  },
  {
   "cell_type": "markdown",
   "id": "e0a9a2df",
   "metadata": {},
   "source": [
    "### Cities with most number of loan rejections"
   ]
  },
  {
   "cell_type": "code",
   "execution_count": 667,
   "id": "56c203d0",
   "metadata": {},
   "outputs": [
    {
     "data": {
      "text/plain": [
       "[]"
      ]
     },
     "execution_count": 667,
     "metadata": {},
     "output_type": "execute_result"
    },
    {
     "data": {
      "image/png": "[encoded data removed]",
      "text/plain": [
       "<Figure size 576x360 with 1 Axes>"
      ]
     },
     "metadata": {
      "needs_background": "light"
     },
     "output_type": "display_data"
    }
   ],
   "source": [
    "plt.figure(figsize=(8, 5))\n",
    "sns.barplot(x = 'Residence_City', y = 'Loan_Default_Risk', data=cities.iloc[0:5, :])\n",
    "plt.plot()"
   ]
  },
  {
   "cell_type": "markdown",
   "id": "59798eeb",
   "metadata": {},
   "source": [
    "### Cities with least number of loan rejections"
   ]
  },
  {
   "cell_type": "code",
   "execution_count": 668,
   "id": "271f8bc9",
   "metadata": {},
   "outputs": [
    {
     "data": {
      "text/plain": [
       "[]"
      ]
     },
     "execution_count": 668,
     "metadata": {},
     "output_type": "execute_result"
    },
    {
     "data": {
      "image/png": "[encoded data removed]",
      "text/plain": [
       "<Figure size 576x360 with 1 Axes>"
      ]
     },
     "metadata": {
      "needs_background": "light"
     },
     "output_type": "display_data"
    }
   ],
   "source": [
    "plt.figure(figsize=(8, 5))\n",
    "sns.barplot(x = 'Residence_City', y = 'Loan_Default_Risk', data=cities.iloc[-1:-6:-1, :])\n",
    "plt.plot()"
   ]
  },
  {
   "cell_type": "code",
   "execution_count": 620,
   "id": "24db36e0",
   "metadata": {},
   "outputs": [
    {
     "data": {
      "text/html": [
       "<div>\n",
       "<style scoped>\n",
       "    .dataframe tbody tr th:only-of-type {\n",
       "        vertical-align: middle;\n",
       "    }\n",
       "\n",
       "    .dataframe tbody tr th {\n",
       "        vertical-align: top;\n",
       "    }\n",
       "\n",
       "    .dataframe thead th {\n",
       "        text-align: right;\n",
       "    }\n",
       "</style>\n",
       "<table border=\"1\" class=\"dataframe\">\n",
       "  <thead>\n",
       "    <tr style=\"text-align: right;\">\n",
       "      <th></th>\n",
       "      <th>Residence_State</th>\n",
       "      <th>Loan_Default_Risk</th>\n",
       "    </tr>\n",
       "  </thead>\n",
       "  <tbody>\n",
       "    <tr>\n",
       "      <th>18</th>\n",
       "      <td>Puducherry</td>\n",
       "      <td>59</td>\n",
       "    </tr>\n",
       "    <tr>\n",
       "      <th>25</th>\n",
       "      <td>Uttarakhand</td>\n",
       "      <td>49</td>\n",
       "    </tr>\n",
       "    <tr>\n",
       "      <th>8</th>\n",
       "      <td>Himachal Pradesh</td>\n",
       "      <td>47</td>\n",
       "    </tr>\n",
       "    <tr>\n",
       "      <th>16</th>\n",
       "      <td>Mizoram</td>\n",
       "      <td>45</td>\n",
       "    </tr>\n",
       "    <tr>\n",
       "      <th>3</th>\n",
       "      <td>Chandigarh</td>\n",
       "      <td>21</td>\n",
       "    </tr>\n",
       "  </tbody>\n",
       "</table>\n",
       "</div>"
      ],
      "text/plain": [
       "     Residence_State  Loan_Default_Risk\n",
       "18        Puducherry                 59\n",
       "25       Uttarakhand                 49\n",
       "8   Himachal Pradesh                 47\n",
       "16           Mizoram                 45\n",
       "3         Chandigarh                 21"
      ]
     },
     "execution_count": 620,
     "metadata": {},
     "output_type": "execute_result"
    }
   ],
   "source": [
    "# States and total loan default risks\n",
    "states = df[df['Loan_Default_Risk'] == 1].groupby(by=['Residence_State'])['Loan_Default_Risk'].count().reset_index().sort_values(by='Loan_Default_Risk', ascending = False)\n",
    "states.tail()"
   ]
  },
  {
   "cell_type": "markdown",
   "id": "a10d7586",
   "metadata": {},
   "source": [
    "### States with most number of loan rejections"
   ]
  },
  {
   "cell_type": "code",
   "execution_count": 669,
   "id": "6b608365",
   "metadata": {},
   "outputs": [
    {
     "data": {
      "text/plain": [
       "[]"
      ]
     },
     "execution_count": 669,
     "metadata": {},
     "output_type": "execute_result"
    },
    {
     "data": {
      "image/png": "[encoded data removed]",
      "text/plain": [
       "<Figure size 576x360 with 1 Axes>"
      ]
     },
     "metadata": {
      "needs_background": "light"
     },
     "output_type": "display_data"
    }
   ],
   "source": [
    "plt.figure(figsize=(8, 5))\n",
    "sns.barplot(x = 'Residence_State', y = 'Loan_Default_Risk', data=states.iloc[0:5, :])\n",
    "plt.plot()"
   ]
  },
  {
   "cell_type": "markdown",
   "id": "f1e3c6ff",
   "metadata": {},
   "source": [
    "### States with least number of loan rejections"
   ]
  },
  {
   "cell_type": "code",
   "execution_count": 670,
   "id": "41c8bf58",
   "metadata": {},
   "outputs": [
    {
     "data": {
      "text/plain": [
       "[]"
      ]
     },
     "execution_count": 670,
     "metadata": {},
     "output_type": "execute_result"
    },
    {
     "data": {
      "image/png": "[encoded data removed]",
      "text/plain": [
       "<Figure size 576x360 with 1 Axes>"
      ]
     },
     "metadata": {
      "needs_background": "light"
     },
     "output_type": "display_data"
    }
   ],
   "source": [
    "plt.figure(figsize=(8, 5))\n",
    "sns.barplot(x = 'Residence_State', y = 'Loan_Default_Risk', data=states.iloc[-1:-6:-1, :])\n",
    "plt.plot()"
   ]
  },
  {
   "cell_type": "markdown",
   "id": "5d858f42",
   "metadata": {},
   "source": [
    "## Age and Loan Risk"
   ]
  },
  {
   "cell_type": "code",
   "execution_count": 623,
   "id": "a48b7b29",
   "metadata": {},
   "outputs": [],
   "source": [
    "def my_fmt(x):\n",
    "    return '{:.2f}%\\n({:.0f})'.format(x, total*x/100)"
   ]
  },
  {
   "cell_type": "code",
   "execution_count": 624,
   "id": "6473f1e1",
   "metadata": {},
   "outputs": [
    {
     "data": {
      "text/html": [
       "<div>\n",
       "<style scoped>\n",
       "    .dataframe tbody tr th:only-of-type {\n",
       "        vertical-align: middle;\n",
       "    }\n",
       "\n",
       "    .dataframe tbody tr th {\n",
       "        vertical-align: top;\n",
       "    }\n",
       "\n",
       "    .dataframe thead th {\n",
       "        text-align: right;\n",
       "    }\n",
       "</style>\n",
       "<table border=\"1\" class=\"dataframe\">\n",
       "  <thead>\n",
       "    <tr style=\"text-align: right;\">\n",
       "      <th></th>\n",
       "      <th>Applicant_Age_Range</th>\n",
       "      <th>Count</th>\n",
       "    </tr>\n",
       "  </thead>\n",
       "  <tbody>\n",
       "    <tr>\n",
       "      <th>0</th>\n",
       "      <td>18-30</td>\n",
       "      <td>2596</td>\n",
       "    </tr>\n",
       "    <tr>\n",
       "      <th>1</th>\n",
       "      <td>31-40</td>\n",
       "      <td>2038</td>\n",
       "    </tr>\n",
       "    <tr>\n",
       "      <th>2</th>\n",
       "      <td>41-50</td>\n",
       "      <td>2248</td>\n",
       "    </tr>\n",
       "    <tr>\n",
       "      <th>3</th>\n",
       "      <td>51-60</td>\n",
       "      <td>2161</td>\n",
       "    </tr>\n",
       "    <tr>\n",
       "      <th>4</th>\n",
       "      <td>61-70</td>\n",
       "      <td>2109</td>\n",
       "    </tr>\n",
       "    <tr>\n",
       "      <th>5</th>\n",
       "      <td>71-80</td>\n",
       "      <td>1845</td>\n",
       "    </tr>\n",
       "  </tbody>\n",
       "</table>\n",
       "</div>"
      ],
      "text/plain": [
       "  Applicant_Age_Range  Count\n",
       "0               18-30   2596\n",
       "1               31-40   2038\n",
       "2               41-50   2248\n",
       "3               51-60   2161\n",
       "4               61-70   2109\n",
       "5               71-80   1845"
      ]
     },
     "execution_count": 624,
     "metadata": {},
     "output_type": "execute_result"
    }
   ],
   "source": [
    "# Rejected Loan Count\n",
    "rejected = df[df['Loan_Default_Risk'] == 1].groupby(by=['Applicant_Age_Range'])['Applicant_Age_Range'].count().reset_index(name = 'Count').sort_values(by='Applicant_Age_Range', ascending = True)\n",
    "rejected"
   ]
  },
  {
   "cell_type": "markdown",
   "id": "bad0c90b",
   "metadata": {},
   "source": [
    "### Count between Rejected Loans and Age"
   ]
  },
  {
   "cell_type": "code",
   "execution_count": 625,
   "id": "ace47f6e",
   "metadata": {},
   "outputs": [
    {
     "data": {
      "image/png": "[encoded data removed]",
      "text/plain": [
       "<Figure size 1008x576 with 1 Axes>"
      ]
     },
     "metadata": {},
     "output_type": "display_data"
    }
   ],
   "source": [
    "total = rejected['Count'].sum()\n",
    "plt.figure(figsize=(14, 8))\n",
    "plt.title('Rejected Loans vs Age Range', fontdict={\"fontsize\":16})\n",
    "plt.pie(x=rejected['Count'], \n",
    "        labels=rejected['Applicant_Age_Range'], \n",
    "        autopct=my_fmt, \n",
    "        colors=sns.color_palette('Set2'), \n",
    "        pctdistance=0.5, \n",
    "        labeldistance=1.1,\n",
    "        explode=[0.02, 0.02, 0.02, 0.02, 0.02, 0.02],\n",
    "        counterclock=False,\n",
    "        startangle=180\n",
    "       )\n",
    "plt.show()"
   ]
  },
  {
   "cell_type": "code",
   "execution_count": 626,
   "id": "02f7a0b0",
   "metadata": {},
   "outputs": [
    {
     "data": {
      "text/html": [
       "<div>\n",
       "<style scoped>\n",
       "    .dataframe tbody tr th:only-of-type {\n",
       "        vertical-align: middle;\n",
       "    }\n",
       "\n",
       "    .dataframe tbody tr th {\n",
       "        vertical-align: top;\n",
       "    }\n",
       "\n",
       "    .dataframe thead th {\n",
       "        text-align: right;\n",
       "    }\n",
       "</style>\n",
       "<table border=\"1\" class=\"dataframe\">\n",
       "  <thead>\n",
       "    <tr style=\"text-align: right;\">\n",
       "      <th></th>\n",
       "      <th>Applicant_Age_Range</th>\n",
       "      <th>Count</th>\n",
       "    </tr>\n",
       "  </thead>\n",
       "  <tbody>\n",
       "    <tr>\n",
       "      <th>0</th>\n",
       "      <td>18-30</td>\n",
       "      <td>14669</td>\n",
       "    </tr>\n",
       "    <tr>\n",
       "      <th>1</th>\n",
       "      <td>31-40</td>\n",
       "      <td>14368</td>\n",
       "    </tr>\n",
       "    <tr>\n",
       "      <th>2</th>\n",
       "      <td>41-50</td>\n",
       "      <td>15062</td>\n",
       "    </tr>\n",
       "    <tr>\n",
       "      <th>3</th>\n",
       "      <td>51-60</td>\n",
       "      <td>14715</td>\n",
       "    </tr>\n",
       "    <tr>\n",
       "      <th>4</th>\n",
       "      <td>61-70</td>\n",
       "      <td>15200</td>\n",
       "    </tr>\n",
       "    <tr>\n",
       "      <th>5</th>\n",
       "      <td>71-80</td>\n",
       "      <td>12989</td>\n",
       "    </tr>\n",
       "  </tbody>\n",
       "</table>\n",
       "</div>"
      ],
      "text/plain": [
       "  Applicant_Age_Range  Count\n",
       "0               18-30  14669\n",
       "1               31-40  14368\n",
       "2               41-50  15062\n",
       "3               51-60  14715\n",
       "4               61-70  15200\n",
       "5               71-80  12989"
      ]
     },
     "execution_count": 626,
     "metadata": {},
     "output_type": "execute_result"
    }
   ],
   "source": [
    "# Approved Loan Count\n",
    "approved = df[df['Loan_Default_Risk'] == 0].groupby(by=['Applicant_Age_Range'])['Applicant_Age_Range'].count().reset_index(name = 'Count').sort_values(by='Applicant_Age_Range', ascending = True)\n",
    "approved"
   ]
  },
  {
   "cell_type": "markdown",
   "id": "72657e23",
   "metadata": {},
   "source": [
    "### Count between Rejected Loans and Age"
   ]
  },
  {
   "cell_type": "code",
   "execution_count": 627,
   "id": "0c7df7e5",
   "metadata": {},
   "outputs": [
    {
     "data": {
      "image/png": "[encoded data removed]",
      "text/plain": [
       "<Figure size 1008x576 with 1 Axes>"
      ]
     },
     "metadata": {},
     "output_type": "display_data"
    }
   ],
   "source": [
    "plt.figure(figsize=(14, 8))\n",
    "plt.title('Approved Loans vs Age Range', fontdict={\"fontsize\":16})\n",
    "total = approved['Count'].sum()\n",
    "plt.pie(approved['Count'],\n",
    "        autopct=my_fmt,\n",
    "        labels=approved['Applicant_Age_Range'],\n",
    "        colors=sns.color_palette('Set2'),\n",
    "        explode=[0.02, 0.02, 0.02, 0.02, 0.02, 0.02],\n",
    "        pctdistance=0.5, \n",
    "        labeldistance=1.1,\n",
    "        counterclock=False,\n",
    "        startangle=180\n",
    "       )\n",
    "plt.show()"
   ]
  },
  {
   "cell_type": "markdown",
   "id": "53293c4b",
   "metadata": {},
   "source": [
    "## Income Analysis"
   ]
  },
  {
   "cell_type": "code",
   "execution_count": 628,
   "id": "144ade05",
   "metadata": {},
   "outputs": [
    {
     "data": {
      "text/plain": [
       "Income_Range\n",
       "0 - 5L        757\n",
       "5L - 15L     1249\n",
       "15L - 30L    1911\n",
       "30L - 45L    1995\n",
       "45L - 60L    1923\n",
       "60L - 80L    2533\n",
       "80L+         2629\n",
       "Name: Annual_Income, dtype: int64"
      ]
     },
     "execution_count": 628,
     "metadata": {},
     "output_type": "execute_result"
    }
   ],
   "source": [
    "df[df['Loan_Default_Risk'] == 1].groupby(['Income_Range'])['Annual_Income'].count()"
   ]
  },
  {
   "cell_type": "code",
   "execution_count": 629,
   "id": "fedcfcdb",
   "metadata": {},
   "outputs": [
    {
     "data": {
      "text/plain": [
       "19540"
      ]
     },
     "execution_count": 629,
     "metadata": {},
     "output_type": "execute_result"
    }
   ],
   "source": [
    "len(df[df['Annual_Income'] > 8000000])"
   ]
  },
  {
   "cell_type": "markdown",
   "id": "387ae315",
   "metadata": {},
   "source": [
    "### Total Loans and the Income Range"
   ]
  },
  {
   "cell_type": "code",
   "execution_count": 680,
   "id": "495630b7",
   "metadata": {},
   "outputs": [
    {
     "data": {
      "image/png": "[encoded data removed]",
      "text/plain": [
       "<Figure size 720x360 with 1 Axes>"
      ]
     },
     "metadata": {
      "needs_background": "light"
     },
     "output_type": "display_data"
    }
   ],
   "source": [
    "plt.figure(figsize=(10, 5))\n",
    "sns.histplot(x='Annual_Income', data=df, bins=10, color=\"skyblue\")\n",
    "plt.show()"
   ]
  },
  {
   "cell_type": "markdown",
   "id": "cf92d094",
   "metadata": {},
   "source": [
    "### Income range of individuals at Risk Loan"
   ]
  },
  {
   "cell_type": "code",
   "execution_count": 679,
   "id": "749ca357",
   "metadata": {},
   "outputs": [
    {
     "data": {
      "image/png": "[encoded data removed]",
      "text/plain": [
       "<Figure size 720x360 with 1 Axes>"
      ]
     },
     "metadata": {
      "needs_background": "light"
     },
     "output_type": "display_data"
    }
   ],
   "source": [
    "plt.figure(figsize=(10, 5))\n",
    "sns.histplot(x='Annual_Income', data=df[df['Loan_Default_Risk'] == 1], bins=10, color=\"skyblue\")\n",
    "plt.show()"
   ]
  },
  {
   "cell_type": "code",
   "execution_count": 681,
   "id": "faae3c66",
   "metadata": {},
   "outputs": [
    {
     "data": {
      "text/plain": [
       "Index(['Annual_Income', 'Applicant_Age', 'Work_Experience', 'Marital_Status',\n",
       "       'House_Ownership', 'Vehicle_Ownership(car)', 'Occupation',\n",
       "       'Residence_City', 'Residence_State', 'Years_in_Current_Employment',\n",
       "       'Years_in_Current_Residence', 'Loan_Default_Risk',\n",
       "       'Applicant_Age_Range', 'Income_Range'],\n",
       "      dtype='object')"
      ]
     },
     "execution_count": 681,
     "metadata": {},
     "output_type": "execute_result"
    }
   ],
   "source": [
    "df.columns"
   ]
  },
  {
   "cell_type": "code",
   "execution_count": 729,
   "id": "c7019d47",
   "metadata": {},
   "outputs": [
    {
     "data": {
      "image/png": "[encoded data removed]",
      "text/plain": [
       "<Figure size 1152x1296 with 5 Axes>"
      ]
     },
     "metadata": {
      "needs_background": "light"
     },
     "output_type": "display_data"
    }
   ],
   "source": [
    "plt.figure(figsize=(16, 18))\n",
    "plt.subplots_adjust(top=0.92)\n",
    "plt.suptitle('Analysis of Loans vs Categorical Variables', fontsize=16)\n",
    "\n",
    "plt.subplots_adjust(hspace=0.3, wspace=0.2)\n",
    "plt.subplot(3, 2, 1)\n",
    "plt.title('Marital Status vs Count')\n",
    "sns.countplot(x = df['Marital_Status'])\n",
    "\n",
    "plt.subplot(3, 2, 2)\n",
    "plt.title('Vehicle_Ownership(car) vs Count')\n",
    "sns.countplot(x = df['Vehicle_Ownership(car)'])\n",
    "\n",
    "plt.subplot(3, 2, 3)\n",
    "plt.title('House_Ownership vs Count')\n",
    "sns.countplot(x = df['House_Ownership'])\n",
    "\n",
    "plt.subplot(3, 2, 4)\n",
    "plt.title('Years_in_Current_Employment vs Count')\n",
    "sns.countplot(x = df['Years_in_Current_Employment'], order=df['Years_in_Current_Employment'].value_counts().index)\n",
    "\n",
    "plt.subplot(3, 2, 5)\n",
    "plt.title('Years_in_Current_Residence vs Count')\n",
    "sns.countplot(x = df['Years_in_Current_Residence'], order=df['Years_in_Current_Residence'].value_counts().index)\n",
    "\n",
    "plt.show()"
   ]
  },
  {
   "cell_type": "markdown",
   "id": "6f37d8e9",
   "metadata": {},
   "source": [
    "## Data Preprocessing"
   ]
  },
  {
   "cell_type": "code",
   "execution_count": 600,
   "id": "c10f2777",
   "metadata": {},
   "outputs": [],
   "source": [
    "from sklearn.model_selection import train_test_split\n",
    "from sklearn.preprocessing import OneHotEncoder, LabelEncoder, StandardScaler"
   ]
  },
  {
   "cell_type": "code",
   "execution_count": 602,
   "id": "f8ae5f59",
   "metadata": {},
   "outputs": [
    {
     "data": {
      "text/html": [
       "<div>\n",
       "<style scoped>\n",
       "    .dataframe tbody tr th:only-of-type {\n",
       "        vertical-align: middle;\n",
       "    }\n",
       "\n",
       "    .dataframe tbody tr th {\n",
       "        vertical-align: top;\n",
       "    }\n",
       "\n",
       "    .dataframe thead th {\n",
       "        text-align: right;\n",
       "    }\n",
       "</style>\n",
       "<table border=\"1\" class=\"dataframe\">\n",
       "  <thead>\n",
       "    <tr style=\"text-align: right;\">\n",
       "      <th></th>\n",
       "      <th>Annual_Income</th>\n",
       "      <th>Applicant_Age</th>\n",
       "      <th>Work_Experience</th>\n",
       "      <th>Marital_Status</th>\n",
       "      <th>House_Ownership</th>\n",
       "      <th>Vehicle_Ownership(car)</th>\n",
       "      <th>Occupation</th>\n",
       "      <th>Residence_City</th>\n",
       "      <th>Residence_State</th>\n",
       "      <th>Years_in_Current_Employment</th>\n",
       "      <th>Years_in_Current_Residence</th>\n",
       "      <th>Applicant_Age_Range</th>\n",
       "      <th>Income_Range</th>\n",
       "    </tr>\n",
       "  </thead>\n",
       "  <tbody>\n",
       "    <tr>\n",
       "      <th>61432</th>\n",
       "      <td>1591909</td>\n",
       "      <td>71</td>\n",
       "      <td>17</td>\n",
       "      <td>married</td>\n",
       "      <td>rented</td>\n",
       "      <td>no</td>\n",
       "      <td>Civil engineer</td>\n",
       "      <td>Ballia</td>\n",
       "      <td>Uttar Pradesh</td>\n",
       "      <td>4</td>\n",
       "      <td>12</td>\n",
       "      <td>71-80</td>\n",
       "      <td>15L - 30L</td>\n",
       "    </tr>\n",
       "    <tr>\n",
       "      <th>20096</th>\n",
       "      <td>7992060</td>\n",
       "      <td>44</td>\n",
       "      <td>15</td>\n",
       "      <td>single</td>\n",
       "      <td>rented</td>\n",
       "      <td>no</td>\n",
       "      <td>Fashion Designer</td>\n",
       "      <td>Nagaon</td>\n",
       "      <td>Assam</td>\n",
       "      <td>4</td>\n",
       "      <td>11</td>\n",
       "      <td>41-50</td>\n",
       "      <td>60L - 80L</td>\n",
       "    </tr>\n",
       "    <tr>\n",
       "      <th>56073</th>\n",
       "      <td>2145278</td>\n",
       "      <td>47</td>\n",
       "      <td>9</td>\n",
       "      <td>single</td>\n",
       "      <td>rented</td>\n",
       "      <td>yes</td>\n",
       "      <td>Firefighter</td>\n",
       "      <td>Anantapuram</td>\n",
       "      <td>Andhra Pradesh</td>\n",
       "      <td>8</td>\n",
       "      <td>10</td>\n",
       "      <td>41-50</td>\n",
       "      <td>15L - 30L</td>\n",
       "    </tr>\n",
       "    <tr>\n",
       "      <th>16767</th>\n",
       "      <td>2421029</td>\n",
       "      <td>48</td>\n",
       "      <td>13</td>\n",
       "      <td>single</td>\n",
       "      <td>rented</td>\n",
       "      <td>no</td>\n",
       "      <td>Surveyor</td>\n",
       "      <td>Visakhapatnam</td>\n",
       "      <td>Andhra Pradesh</td>\n",
       "      <td>5</td>\n",
       "      <td>10</td>\n",
       "      <td>41-50</td>\n",
       "      <td>15L - 30L</td>\n",
       "    </tr>\n",
       "    <tr>\n",
       "      <th>7436</th>\n",
       "      <td>532746</td>\n",
       "      <td>78</td>\n",
       "      <td>18</td>\n",
       "      <td>married</td>\n",
       "      <td>rented</td>\n",
       "      <td>yes</td>\n",
       "      <td>Petroleum Engineer</td>\n",
       "      <td>Haridwar</td>\n",
       "      <td>Uttarakhand</td>\n",
       "      <td>10</td>\n",
       "      <td>12</td>\n",
       "      <td>71-80</td>\n",
       "      <td>5L - 15L</td>\n",
       "    </tr>\n",
       "  </tbody>\n",
       "</table>\n",
       "</div>"
      ],
      "text/plain": [
       "       Annual_Income  Applicant_Age  Work_Experience Marital_Status  \\\n",
       "61432        1591909             71               17        married   \n",
       "20096        7992060             44               15         single   \n",
       "56073        2145278             47                9         single   \n",
       "16767        2421029             48               13         single   \n",
       "7436          532746             78               18        married   \n",
       "\n",
       "      House_Ownership Vehicle_Ownership(car)          Occupation  \\\n",
       "61432          rented                     no      Civil engineer   \n",
       "20096          rented                     no    Fashion Designer   \n",
       "56073          rented                    yes         Firefighter   \n",
       "16767          rented                     no            Surveyor   \n",
       "7436           rented                    yes  Petroleum Engineer   \n",
       "\n",
       "      Residence_City Residence_State  Years_in_Current_Employment  \\\n",
       "61432         Ballia   Uttar Pradesh                            4   \n",
       "20096         Nagaon           Assam                            4   \n",
       "56073    Anantapuram  Andhra Pradesh                            8   \n",
       "16767  Visakhapatnam  Andhra Pradesh                            5   \n",
       "7436        Haridwar     Uttarakhand                           10   \n",
       "\n",
       "       Years_in_Current_Residence Applicant_Age_Range Income_Range  \n",
       "61432                          12               71-80    15L - 30L  \n",
       "20096                          11               41-50    60L - 80L  \n",
       "56073                          10               41-50    15L - 30L  \n",
       "16767                          10               41-50    15L - 30L  \n",
       "7436                           12               71-80     5L - 15L  "
      ]
     },
     "execution_count": 602,
     "metadata": {},
     "output_type": "execute_result"
    }
   ],
   "source": [
    "X = df.drop(columns=['Loan_Default_Risk'])\n",
    "X.sample(5)"
   ]
  },
  {
   "cell_type": "code",
   "execution_count": 437,
   "id": "529816a0",
   "metadata": {},
   "outputs": [
    {
     "data": {
      "text/plain": [
       "0        71-80\n",
       "1        31-40\n",
       "2        61-70\n",
       "3        41-50\n",
       "4        41-50\n",
       "         ...  \n",
       "99995    61-70\n",
       "99996    61-70\n",
       "99997    61-70\n",
       "99998    51-60\n",
       "99999    51-60\n",
       "Name: Applicant_Age_Range, Length: 100000, dtype: object"
      ]
     },
     "execution_count": 437,
     "metadata": {},
     "output_type": "execute_result"
    }
   ],
   "source": [
    "y = df.iloc[:, -1]\n",
    "y"
   ]
  },
  {
   "cell_type": "code",
   "execution_count": 569,
   "id": "93244502",
   "metadata": {},
   "outputs": [
    {
     "data": {
      "text/plain": [
       "Annual_Income                  10237\n",
       "Applicant_Age                  10237\n",
       "Work_Experience                10237\n",
       "Marital_Status                 10237\n",
       "House_Ownership                10237\n",
       "Vehicle_Ownership(car)         10237\n",
       "Occupation                     10237\n",
       "Residence_City                 10237\n",
       "Residence_State                10237\n",
       "Years_in_Current_Employment    10237\n",
       "Years_in_Current_Residence     10237\n",
       "Loan_Default_Risk              10237\n",
       "Applicant_Age_Range            10237\n",
       "dtype: int64"
      ]
     },
     "execution_count": 569,
     "metadata": {},
     "output_type": "execute_result"
    }
   ],
   "source": [
    "df[df['Marital_Status']=='married'].count()"
   ]
  },
  {
   "cell_type": "code",
   "execution_count": 440,
   "id": "322cf88a",
   "metadata": {},
   "outputs": [
    {
     "data": {
      "text/plain": [
       "array(['rented', 'owned', 'norent_noown'], dtype=object)"
      ]
     },
     "execution_count": 440,
     "metadata": {},
     "output_type": "execute_result"
    }
   ],
   "source": [
    "df['House_Ownership'].unique()"
   ]
  },
  {
   "cell_type": "code",
   "execution_count": 441,
   "id": "3b27bcf1",
   "metadata": {},
   "outputs": [
    {
     "data": {
      "text/plain": [
       "array(['no', 'yes'], dtype=object)"
      ]
     },
     "execution_count": 441,
     "metadata": {},
     "output_type": "execute_result"
    }
   ],
   "source": [
    "df['Vehicle_Ownership(car)'].unique()"
   ]
  },
  {
   "cell_type": "code",
   "execution_count": 442,
   "id": "6463b1a5",
   "metadata": {},
   "outputs": [
    {
     "data": {
      "text/plain": [
       "array(['Psychologist', 'Petroleum_Engineer', 'Drafter',\n",
       "       'Chartered_Accountant', 'Air_traffic_controller',\n",
       "       'Biomedical_Engineer', 'Fashion_Designer', 'Magistrate',\n",
       "       'Technology_specialist', 'Lawyer', 'Civil_servant', 'Physician',\n",
       "       'Financial_Analyst', 'Design_Engineer', 'Hotel_Manager',\n",
       "       'Engineer', 'Computer_hardware_engineer', 'Flight_attendant',\n",
       "       'Comedian', 'Scientist', 'Mechanical_engineer', 'Geologist',\n",
       "       'Aviator', 'Web_designer', 'Designer', 'Architect', 'Statistician',\n",
       "       'Graphic_Designer', 'Dentist', 'Consultant', 'Secretary',\n",
       "       'Economist', 'Official', 'Chemical_engineer', 'Politician',\n",
       "       'Army_officer', 'Microbiologist', 'Librarian',\n",
       "       'Software_Developer', 'Civil_engineer', 'Technical_writer', 'Chef',\n",
       "       'Artist', 'Firefighter', 'Computer_operator', 'Surgeon',\n",
       "       'Industrial_Engineer', 'Police_officer', 'Analyst', 'Technician',\n",
       "       'Surveyor'], dtype=object)"
      ]
     },
     "execution_count": 442,
     "metadata": {},
     "output_type": "execute_result"
    }
   ],
   "source": [
    "df['Occupation'].unique()"
   ]
  },
  {
   "cell_type": "code",
   "execution_count": 565,
   "id": "69c0994b",
   "metadata": {},
   "outputs": [
    {
     "data": {
      "text/plain": [
       "array(['Jalandhar', 'Bally', 'Indore', 'Kurnool', 'Asansol', 'Bongaigaon',\n",
       "       'Katihar', 'Sikar', 'Chinsurah', 'Muzaffarnagar', 'Darbhanga',\n",
       "       'Chandigarh city', 'Adoni', 'Ludhiana', 'Amroha', 'Aligarh',\n",
       "       'Udupi', 'Delhi city', 'Moradabad', 'Sonipat', 'Gandhinagar',\n",
       "       'Raebareli', 'Madhyamgram', 'Nashik', 'Bilaspur', 'Davanagere',\n",
       "       'Kakinada', 'Chandrapur', 'Sangli-Miraj & Kupwad', 'Dhule',\n",
       "       'Bhind', 'Kollam', 'Durg', 'Ajmer', 'Malegaon', 'Kottayam',\n",
       "       'Bhalswa Jahangir Pur', 'Gaya', 'Guna', 'Hapur', 'Agartala',\n",
       "       'Thiruvananthapuram', 'Kharagpur', 'Rewa', 'Jorhat', 'Ambattur',\n",
       "       'Sambhal', 'Etawah', 'Bellary', 'New Delhi', 'South Dumdum',\n",
       "       'Gangtok', 'Aizawl', 'Pimpri-Chinchwad', 'Nangloi Jat',\n",
       "       'Anantapuram', 'Mangalore', 'Hazaribagh', 'Kumbakonam', 'Jhansi',\n",
       "       'Proddatur', 'Avadi', 'Bhagalpur', 'Madanapalle', 'Meerut',\n",
       "       'Tiruppur', 'Jehanabad', 'Machilipatnam', 'Howrah', 'Jamshedpur',\n",
       "       'Kolkata', 'Phagwara', 'Allahabad', 'Bhusawal', 'Giridih',\n",
       "       'Bangalore', 'Bhopal', 'Jalgaon', 'Deoghar', 'Jamnagar',\n",
       "       'Navi Mumbai', 'Akola', 'Bhatpara', 'North Dumdum', 'Ichalkaranji',\n",
       "       'Tirupati', 'Surendranagar Dudhrej', 'Junagadh', 'Karaikudi',\n",
       "       'Nellore', 'Thrissur', 'Dewas', 'Jaipur', 'Faridabad', 'Arrah',\n",
       "       'Vadodara', 'Sambalpur', 'Baranagar', 'Bulandshahr',\n",
       "       'Vijayanagaram', 'Raipur', 'Nagercoil', 'Hyderabad', 'Siliguri',\n",
       "       'Pali', 'Saharsa', 'Pallavaram', 'Srinagar', 'Vellore', 'Anand',\n",
       "       'Sirsa', 'Nadiad', 'Pune', 'Malda', 'Bareilly', 'Gudivada',\n",
       "       'Shimla', 'Bokaro', 'Haridwar', 'Satara', 'Hajipur',\n",
       "       'Sri Ganganagar', 'Gorakhpur', 'Khandwa', 'Tumkur', 'Bahraich',\n",
       "       'Uluberia', 'Panipat', 'Bidhannagar', 'Mirzapur', 'Erode',\n",
       "       'Motihari', 'Jodhpur', 'Salem', 'Rajpur Sonarpur', 'Ramagundam',\n",
       "       'Kozhikode', 'Tadipatri', 'Durgapur', 'Bhavnagar', 'Tiruvottiyur',\n",
       "       'Chennai', 'Berhampore', 'Satna', 'Bijapur', 'Mango', 'Guntur',\n",
       "       'Panihati', 'Ghaziabad', 'Patna', 'Bharatpur', 'Buxar', 'Latur',\n",
       "       'Nagpur', 'Bhiwani', 'Rajkot', 'Rohtak', 'Mathura', 'Kochi',\n",
       "       'Dehradun', 'Shimoga', 'Kadapa', 'Gandhidham', 'Kulti', 'Hospet',\n",
       "       'Dharmavaram', 'Kavali', 'Siwan', 'Nanded', 'Bidar', 'Ambala',\n",
       "       'Tinsukia', 'Tiruchirappalli', 'Gulbarga', 'Lucknow', 'Phusro',\n",
       "       'Mira-Bhayandar', 'Serampore', 'Pondicherry', 'Ambarnath',\n",
       "       'Aurangabad', 'Berhampur', 'Karimnagar', 'Rourkela', 'Ozhukarai',\n",
       "       'Khora, Ghaziabad', 'Mehsana', 'Srikakulam', 'Loni', 'Singrauli',\n",
       "       'Amaravati', 'Rampur', 'Pudukkottai', 'Mysore', 'Bhilai',\n",
       "       'Bhilwara', 'Mumbai', 'Barasat', 'Tirunelveli', 'Kamarhati',\n",
       "       'Silchar', 'Agra', 'Surat', 'Noida', 'Guntakal', 'Madurai',\n",
       "       'Ulhasnagar', 'Firozabad', 'Karnal', 'Kishanganj', 'Tenali',\n",
       "       'Burhanpur', 'Bhimavaram', 'Warangal', 'Jamalpur', 'Parbhani',\n",
       "       'Sasaram', 'Orai', 'Unnao', 'Jabalpur',\n",
       "       'Raurkela Industrial Township', 'Miryalaguda', 'Vijayawada',\n",
       "       'Amravati', 'Korba', 'Dhanbad', 'Mau', 'Shahjahanpur',\n",
       "       'Saharanpur', 'Jalna', 'Vasai-Virar', 'Bathinda', 'Ranchi',\n",
       "       'Begusarai', 'Nandyal', 'Alappuzha', 'Bhiwandi', 'Rajahmundry',\n",
       "       'Thoothukudi', 'Ballia', 'Nizamabad', 'Ahmedabad', 'Solapur',\n",
       "       'Cuttack', 'Haldia', 'Panchkula', 'Amritsar', 'Khammam',\n",
       "       'Kolhapur', 'Panvel', 'Hubliâ€“Dharwad', 'Dibrugarh', 'Coimbatore',\n",
       "       'Danapur', 'Farrukhabad', 'Suryapet', 'Varanasi', 'Jammu',\n",
       "       'Purnia', 'Anantapur', 'Bhubaneswar', 'Medininagar', 'Morena',\n",
       "       'Belgaum', 'Kirari Suleman Nagar', 'Thanjavur', 'Ratlam', 'Katni',\n",
       "       'Karawal Nagar', 'Dehri', 'Visakhapatnam', 'Ramgarh', 'Thane',\n",
       "       'Bikaner', 'Morbi', 'Fatehpur', 'Muzaffarpur', 'Raiganj',\n",
       "       'Shivpuri', 'Patiala', 'Mahbubnagar', 'Chittoor', 'Jaunpur',\n",
       "       'Ahmednagar', 'Udaipur', 'Sultan Pur Majra', 'Chapra', 'Tezpur',\n",
       "       'Kalyan-Dombivli', 'Alwar', 'Ongole', 'Bihar Sharif', 'Gopalpur',\n",
       "       'Kota', 'Hindupur', 'Eluru', 'Raichur', 'Munger', 'Maheshtala',\n",
       "       'Hosur', 'Imphal', 'Bardhaman', 'Nagaon', 'Tadepalligudem',\n",
       "       'Secunderabad', 'Dindigul', 'Gwalior', 'Narasaraopet', 'Sagar',\n",
       "       'Naihati', 'Kanpur', 'Yamunanagar', 'Gurgaon', 'Bettiah',\n",
       "       'Guwahati', 'Ujjain'], dtype=object)"
      ]
     },
     "execution_count": 565,
     "metadata": {},
     "output_type": "execute_result"
    }
   ],
   "source": [
    "df['Residence_City'].unique()"
   ]
  },
  {
   "cell_type": "code",
   "execution_count": 444,
   "id": "c9b5ec15",
   "metadata": {},
   "outputs": [
    {
     "data": {
      "text/plain": [
       "array(['Punjab', 'West_Bengal', 'Madhya_Pradesh', 'Andhra_Pradesh',\n",
       "       'Assam', 'Bihar', 'Rajasthan', 'Uttar_Pradesh', 'Chandigarh',\n",
       "       'Karnataka', 'Delhi', 'Haryana', 'Gujarat', 'Maharashtra',\n",
       "       'Chhattisgarh', 'Kerala', 'Tripura', 'Tamil_Nadu', 'Sikkim',\n",
       "       'Mizoram', 'Jharkhand', 'Uttar_Pradesh[5]', 'Odisha', 'Telangana',\n",
       "       'Jammu_and_Kashmir', 'Himachal_Pradesh', 'Uttarakhand',\n",
       "       'Puducherry', 'Manipur'], dtype=object)"
      ]
     },
     "execution_count": 444,
     "metadata": {},
     "output_type": "execute_result"
    }
   ],
   "source": [
    "df['Residence_State'].unique()"
   ]
  },
  {
   "cell_type": "code",
   "execution_count": 445,
   "id": "168df967",
   "metadata": {},
   "outputs": [],
   "source": [
    "X_train, X_test, y_train, y_test = train_test_split(X, y, test_size=0.2, random_state=42)"
   ]
  },
  {
   "cell_type": "code",
   "execution_count": 446,
   "id": "2c3d06d4",
   "metadata": {},
   "outputs": [
    {
     "data": {
      "text/plain": [
       "71776"
      ]
     },
     "execution_count": 446,
     "metadata": {},
     "output_type": "execute_result"
    }
   ],
   "source": [
    "len(X_train[X_train['Marital_Status'] == 'single'])"
   ]
  },
  {
   "cell_type": "code",
   "execution_count": 447,
   "id": "46131c75",
   "metadata": {},
   "outputs": [
    {
     "name": "stderr",
     "output_type": "stream",
     "text": [
      "/opt/anaconda3/lib/python3.9/site-packages/pandas/core/frame.py:3678: SettingWithCopyWarning: \n",
      "A value is trying to be set on a copy of a slice from a DataFrame.\n",
      "Try using .loc[row_indexer,col_indexer] = value instead\n",
      "\n",
      "See the caveats in the documentation: https://pandas.pydata.org/pandas-docs/stable/user_guide/indexing.html#returning-a-view-versus-a-copy\n",
      "  self[col] = igetitem(value, i)\n",
      "/opt/anaconda3/lib/python3.9/site-packages/pandas/core/frame.py:3678: SettingWithCopyWarning: \n",
      "A value is trying to be set on a copy of a slice from a DataFrame.\n",
      "Try using .loc[row_indexer,col_indexer] = value instead\n",
      "\n",
      "See the caveats in the documentation: https://pandas.pydata.org/pandas-docs/stable/user_guide/indexing.html#returning-a-view-versus-a-copy\n",
      "  self[col] = igetitem(value, i)\n"
     ]
    }
   ],
   "source": [
    "columns_to_scale = ['Annual_Income', 'Applicant_Age', 'Work_Experience', 'Years_in_Current_Employment', 'Years_in_Current_Residence']\n",
    "scaler = StandardScaler()\n",
    "\n",
    "X_train[columns_to_scale] = scaler.fit_transform(X_train[columns_to_scale])\n",
    "\n",
    "# Transform the selected columns in the test set using the same scaler\n",
    "X_test[columns_to_scale] = scaler.transform(X_test[columns_to_scale])"
   ]
  },
  {
   "cell_type": "code",
   "execution_count": 448,
   "id": "ff41a452",
   "metadata": {},
   "outputs": [
    {
     "data": {
      "text/html": [
       "<div>\n",
       "<style scoped>\n",
       "    .dataframe tbody tr th:only-of-type {\n",
       "        vertical-align: middle;\n",
       "    }\n",
       "\n",
       "    .dataframe tbody tr th {\n",
       "        vertical-align: top;\n",
       "    }\n",
       "\n",
       "    .dataframe thead th {\n",
       "        text-align: right;\n",
       "    }\n",
       "</style>\n",
       "<table border=\"1\" class=\"dataframe\">\n",
       "  <thead>\n",
       "    <tr style=\"text-align: right;\">\n",
       "      <th></th>\n",
       "      <th>Annual_Income</th>\n",
       "      <th>Applicant_Age</th>\n",
       "      <th>Work_Experience</th>\n",
       "      <th>Marital_Status</th>\n",
       "      <th>House_Ownership</th>\n",
       "      <th>Vehicle_Ownership(car)</th>\n",
       "      <th>Occupation</th>\n",
       "      <th>Residence_City</th>\n",
       "      <th>Residence_State</th>\n",
       "      <th>Years_in_Current_Employment</th>\n",
       "      <th>Years_in_Current_Residence</th>\n",
       "      <th>Loan_Default_Risk</th>\n",
       "    </tr>\n",
       "  </thead>\n",
       "  <tbody>\n",
       "    <tr>\n",
       "      <th>75220</th>\n",
       "      <td>0.454879</td>\n",
       "      <td>-1.700800</td>\n",
       "      <td>0.480909</td>\n",
       "      <td>single</td>\n",
       "      <td>rented</td>\n",
       "      <td>no</td>\n",
       "      <td>Official</td>\n",
       "      <td>Davanagere</td>\n",
       "      <td>Karnataka</td>\n",
       "      <td>0.179884</td>\n",
       "      <td>-0.714511</td>\n",
       "      <td>0</td>\n",
       "    </tr>\n",
       "    <tr>\n",
       "      <th>48955</th>\n",
       "      <td>1.133471</td>\n",
       "      <td>-0.997514</td>\n",
       "      <td>0.814438</td>\n",
       "      <td>single</td>\n",
       "      <td>rented</td>\n",
       "      <td>yes</td>\n",
       "      <td>Magistrate</td>\n",
       "      <td>Kakinada</td>\n",
       "      <td>Andhra_Pradesh</td>\n",
       "      <td>0.179884</td>\n",
       "      <td>0.717482</td>\n",
       "      <td>0</td>\n",
       "    </tr>\n",
       "    <tr>\n",
       "      <th>44966</th>\n",
       "      <td>0.432211</td>\n",
       "      <td>-0.704478</td>\n",
       "      <td>-0.352913</td>\n",
       "      <td>single</td>\n",
       "      <td>rented</td>\n",
       "      <td>yes</td>\n",
       "      <td>Air_traffic_controller</td>\n",
       "      <td>Thane</td>\n",
       "      <td>Maharashtra</td>\n",
       "      <td>0.454376</td>\n",
       "      <td>0.717482</td>\n",
       "      <td>0</td>\n",
       "    </tr>\n",
       "    <tr>\n",
       "      <th>13568</th>\n",
       "      <td>-0.981994</td>\n",
       "      <td>-1.349157</td>\n",
       "      <td>0.981202</td>\n",
       "      <td>single</td>\n",
       "      <td>rented</td>\n",
       "      <td>no</td>\n",
       "      <td>Comedian</td>\n",
       "      <td>Muzaffarpur</td>\n",
       "      <td>Bihar</td>\n",
       "      <td>1.826832</td>\n",
       "      <td>0.001486</td>\n",
       "      <td>0</td>\n",
       "    </tr>\n",
       "    <tr>\n",
       "      <th>92727</th>\n",
       "      <td>-0.085275</td>\n",
       "      <td>-1.407764</td>\n",
       "      <td>0.981202</td>\n",
       "      <td>single</td>\n",
       "      <td>rented</td>\n",
       "      <td>yes</td>\n",
       "      <td>Army_officer</td>\n",
       "      <td>Rohtak</td>\n",
       "      <td>Haryana</td>\n",
       "      <td>1.003358</td>\n",
       "      <td>0.001486</td>\n",
       "      <td>0</td>\n",
       "    </tr>\n",
       "    <tr>\n",
       "      <th>...</th>\n",
       "      <td>...</td>\n",
       "      <td>...</td>\n",
       "      <td>...</td>\n",
       "      <td>...</td>\n",
       "      <td>...</td>\n",
       "      <td>...</td>\n",
       "      <td>...</td>\n",
       "      <td>...</td>\n",
       "      <td>...</td>\n",
       "      <td>...</td>\n",
       "      <td>...</td>\n",
       "      <td>...</td>\n",
       "    </tr>\n",
       "    <tr>\n",
       "      <th>6265</th>\n",
       "      <td>-0.240353</td>\n",
       "      <td>1.463987</td>\n",
       "      <td>-0.686442</td>\n",
       "      <td>single</td>\n",
       "      <td>rented</td>\n",
       "      <td>no</td>\n",
       "      <td>Surgeon</td>\n",
       "      <td>Sambhal</td>\n",
       "      <td>Uttar_Pradesh</td>\n",
       "      <td>-0.094607</td>\n",
       "      <td>0.001486</td>\n",
       "      <td>0</td>\n",
       "    </tr>\n",
       "    <tr>\n",
       "      <th>54886</th>\n",
       "      <td>-0.513210</td>\n",
       "      <td>-1.642192</td>\n",
       "      <td>-0.519678</td>\n",
       "      <td>single</td>\n",
       "      <td>rented</td>\n",
       "      <td>no</td>\n",
       "      <td>Statistician</td>\n",
       "      <td>Fatehpur</td>\n",
       "      <td>Uttar_Pradesh</td>\n",
       "      <td>0.179884</td>\n",
       "      <td>1.433478</td>\n",
       "      <td>0</td>\n",
       "    </tr>\n",
       "    <tr>\n",
       "      <th>76820</th>\n",
       "      <td>1.060806</td>\n",
       "      <td>0.643487</td>\n",
       "      <td>-1.353500</td>\n",
       "      <td>single</td>\n",
       "      <td>rented</td>\n",
       "      <td>no</td>\n",
       "      <td>Graphic_Designer</td>\n",
       "      <td>Phagwara</td>\n",
       "      <td>Punjab</td>\n",
       "      <td>-1.192572</td>\n",
       "      <td>1.433478</td>\n",
       "      <td>0</td>\n",
       "    </tr>\n",
       "    <tr>\n",
       "      <th>860</th>\n",
       "      <td>-1.316309</td>\n",
       "      <td>0.819308</td>\n",
       "      <td>-0.352913</td>\n",
       "      <td>single</td>\n",
       "      <td>rented</td>\n",
       "      <td>yes</td>\n",
       "      <td>Petroleum_Engineer</td>\n",
       "      <td>Durg</td>\n",
       "      <td>Chhattisgarh</td>\n",
       "      <td>-0.369098</td>\n",
       "      <td>0.001486</td>\n",
       "      <td>0</td>\n",
       "    </tr>\n",
       "    <tr>\n",
       "      <th>15795</th>\n",
       "      <td>-1.491593</td>\n",
       "      <td>1.229558</td>\n",
       "      <td>-1.186735</td>\n",
       "      <td>single</td>\n",
       "      <td>rented</td>\n",
       "      <td>no</td>\n",
       "      <td>Librarian</td>\n",
       "      <td>Coimbatore</td>\n",
       "      <td>Tamil_Nadu</td>\n",
       "      <td>-0.918081</td>\n",
       "      <td>0.717482</td>\n",
       "      <td>1</td>\n",
       "    </tr>\n",
       "  </tbody>\n",
       "</table>\n",
       "<p>80000 rows × 12 columns</p>\n",
       "</div>"
      ],
      "text/plain": [
       "       Annual_Income  Applicant_Age  Work_Experience Marital_Status  \\\n",
       "75220       0.454879      -1.700800         0.480909         single   \n",
       "48955       1.133471      -0.997514         0.814438         single   \n",
       "44966       0.432211      -0.704478        -0.352913         single   \n",
       "13568      -0.981994      -1.349157         0.981202         single   \n",
       "92727      -0.085275      -1.407764         0.981202         single   \n",
       "...              ...            ...              ...            ...   \n",
       "6265       -0.240353       1.463987        -0.686442         single   \n",
       "54886      -0.513210      -1.642192        -0.519678         single   \n",
       "76820       1.060806       0.643487        -1.353500         single   \n",
       "860        -1.316309       0.819308        -0.352913         single   \n",
       "15795      -1.491593       1.229558        -1.186735         single   \n",
       "\n",
       "      House_Ownership Vehicle_Ownership(car)              Occupation  \\\n",
       "75220          rented                     no                Official   \n",
       "48955          rented                    yes              Magistrate   \n",
       "44966          rented                    yes  Air_traffic_controller   \n",
       "13568          rented                     no                Comedian   \n",
       "92727          rented                    yes            Army_officer   \n",
       "...               ...                    ...                     ...   \n",
       "6265           rented                     no                 Surgeon   \n",
       "54886          rented                     no            Statistician   \n",
       "76820          rented                     no        Graphic_Designer   \n",
       "860            rented                    yes      Petroleum_Engineer   \n",
       "15795          rented                     no               Librarian   \n",
       "\n",
       "      Residence_City Residence_State  Years_in_Current_Employment  \\\n",
       "75220     Davanagere       Karnataka                     0.179884   \n",
       "48955       Kakinada  Andhra_Pradesh                     0.179884   \n",
       "44966          Thane     Maharashtra                     0.454376   \n",
       "13568    Muzaffarpur           Bihar                     1.826832   \n",
       "92727         Rohtak         Haryana                     1.003358   \n",
       "...              ...             ...                          ...   \n",
       "6265         Sambhal   Uttar_Pradesh                    -0.094607   \n",
       "54886       Fatehpur   Uttar_Pradesh                     0.179884   \n",
       "76820       Phagwara          Punjab                    -1.192572   \n",
       "860             Durg    Chhattisgarh                    -0.369098   \n",
       "15795     Coimbatore      Tamil_Nadu                    -0.918081   \n",
       "\n",
       "       Years_in_Current_Residence  Loan_Default_Risk  \n",
       "75220                   -0.714511                  0  \n",
       "48955                    0.717482                  0  \n",
       "44966                    0.717482                  0  \n",
       "13568                    0.001486                  0  \n",
       "92727                    0.001486                  0  \n",
       "...                           ...                ...  \n",
       "6265                     0.001486                  0  \n",
       "54886                    1.433478                  0  \n",
       "76820                    1.433478                  0  \n",
       "860                      0.001486                  0  \n",
       "15795                    0.717482                  1  \n",
       "\n",
       "[80000 rows x 12 columns]"
      ]
     },
     "execution_count": 448,
     "metadata": {},
     "output_type": "execute_result"
    }
   ],
   "source": [
    "X_train"
   ]
  },
  {
   "cell_type": "code",
   "execution_count": 449,
   "id": "ddf27825",
   "metadata": {},
   "outputs": [
    {
     "data": {
      "text/plain": [
       "['Loan_Default_Risk',\n",
       " 'Residence_City',\n",
       " 'Residence_State',\n",
       " 'House_Ownership',\n",
       " 'Occupation']"
      ]
     },
     "execution_count": 449,
     "metadata": {},
     "output_type": "execute_result"
    }
   ],
   "source": [
    "label_encoder = LabelEncoder()\n",
    "label_cols = list(set(X.columns).difference(columns_to_scale))\n",
    "label_cols = list(set(label_cols).difference(categorical_columns))\n",
    "label_cols\n",
    "\n",
    "# X_train[columns_to_scale] = label_encoder.fit_transform(X_train[label_cols])\n",
    "\n",
    "# # Transform the selected columns in the test set using the same scaler\n",
    "# X_test[columns_to_scale] = label_encoder.transform(X_test[label_cols])"
   ]
  },
  {
   "cell_type": "code",
   "execution_count": 450,
   "id": "74e28a86",
   "metadata": {},
   "outputs": [
    {
     "name": "stderr",
     "output_type": "stream",
     "text": [
      "/var/folders/q3/yhp4sfcx5z59nt8svjxnkl9r0000gn/T/ipykernel_22014/3556605258.py:4: SettingWithCopyWarning: \n",
      "A value is trying to be set on a copy of a slice from a DataFrame.\n",
      "Try using .loc[row_indexer,col_indexer] = value instead\n",
      "\n",
      "See the caveats in the documentation: https://pandas.pydata.org/pandas-docs/stable/user_guide/indexing.html#returning-a-view-versus-a-copy\n",
      "  X_train[column] = le.fit_transform(X_train[column])\n",
      "/var/folders/q3/yhp4sfcx5z59nt8svjxnkl9r0000gn/T/ipykernel_22014/3556605258.py:5: SettingWithCopyWarning: \n",
      "A value is trying to be set on a copy of a slice from a DataFrame.\n",
      "Try using .loc[row_indexer,col_indexer] = value instead\n",
      "\n",
      "See the caveats in the documentation: https://pandas.pydata.org/pandas-docs/stable/user_guide/indexing.html#returning-a-view-versus-a-copy\n",
      "  X_test[column] = le.transform(X_test[column])\n"
     ]
    }
   ],
   "source": [
    "categorical_columns = ['Vehicle_Ownership(car)', 'Marital_Status']\n",
    "for column in categorical_columns:\n",
    "    le = LabelEncoder()\n",
    "    X_train[column] = le.fit_transform(X_train[column])\n",
    "    X_test[column] = le.transform(X_test[column])"
   ]
  },
  {
   "cell_type": "code",
   "execution_count": 451,
   "id": "832a337c",
   "metadata": {},
   "outputs": [
    {
     "data": {
      "text/plain": [
       "24235"
      ]
     },
     "execution_count": 451,
     "metadata": {},
     "output_type": "execute_result"
    }
   ],
   "source": [
    "X_train['Vehicle_Ownership(car)'].sum()"
   ]
  },
  {
   "cell_type": "code",
   "execution_count": 452,
   "id": "f2bacc12",
   "metadata": {},
   "outputs": [
    {
     "data": {
      "text/plain": [
       "71776"
      ]
     },
     "execution_count": 452,
     "metadata": {},
     "output_type": "execute_result"
    }
   ],
   "source": [
    "X_train['Marital_Status'].sum()"
   ]
  },
  {
   "cell_type": "code",
   "execution_count": 453,
   "id": "05dc62b1",
   "metadata": {},
   "outputs": [],
   "source": [
    "# Create a ColumnTransformer for encoding categorical columns\n",
    "from sklearn.compose import ColumnTransformer\n",
    "preprocessor = ColumnTransformer(\n",
    "    transformers=[ # LabelEncoder for ordinal categorical columns\n",
    "        ('one_hot_encoder', OneHotEncoder(drop='first', sparse=False), label_cols)  # OneHotEncoder for nominal categorical columns\n",
    "    ],\n",
    "    remainder='passthrough'  # Pass through any numerical columns without transformation\n",
    ")\n",
    "\n",
    "# Fit and transform the preprocessing on the training set\n",
    "X_train_encoded = preprocessor.fit_transform(X_train)\n",
    "\n",
    "# Transform the test set using the same preprocessing\n",
    "X_test_encoded = preprocessor.transform(X_test)\n"
   ]
  },
  {
   "cell_type": "markdown",
   "id": "1003f155",
   "metadata": {},
   "source": [
    "## ML Prediction & Metrics "
   ]
  },
  {
   "cell_type": "code",
   "execution_count": 454,
   "id": "5f1b05b1",
   "metadata": {},
   "outputs": [],
   "source": [
    "from sklearn.metrics import accuracy_score, confusion_matrix, classification_report\n",
    "def make_preds(regressor, x_test, y_test):\n",
    "    y_pred = regressor.predict(x_test) \n",
    "    accuracy = accuracy_score(y_test, y_pred)\n",
    "    conf_matrix = confusion_matrix(y_test, y_pred)\n",
    "    classification_rep = classification_report(y_test, y_pred)\n",
    "\n",
    "    print(f\"Accuracy: {accuracy}\")\n",
    "    print(f\"Confusion Matrix:\\n{conf_matrix}\")\n",
    "    print(f\"Classification Report:\\n{classification_rep}\")"
   ]
  },
  {
   "cell_type": "markdown",
   "id": "aef2ea96",
   "metadata": {},
   "source": [
    "# ML Algorithms"
   ]
  },
  {
   "cell_type": "markdown",
   "id": "375153c1",
   "metadata": {},
   "source": [
    "## 1. Logistic Regression"
   ]
  },
  {
   "cell_type": "code",
   "execution_count": 455,
   "id": "f9f55f04",
   "metadata": {},
   "outputs": [
    {
     "data": {
      "text/plain": [
       "LogisticRegression(max_iter=10000)"
      ]
     },
     "execution_count": 455,
     "metadata": {},
     "output_type": "execute_result"
    }
   ],
   "source": [
    "from sklearn.linear_model import LogisticRegression\n",
    "regressor = LogisticRegression(max_iter=10000)\n",
    "regressor.fit(X_train_encoded, y_train)"
   ]
  },
  {
   "cell_type": "code",
   "execution_count": 456,
   "id": "1aa794d9",
   "metadata": {},
   "outputs": [
    {
     "name": "stdout",
     "output_type": "stream",
     "text": [
      "Accuracy: 0.9992\n",
      "Confusion Matrix:\n",
      "[[3456    0    0    0    0    0]\n",
      " [   0 3355    4    0    0    0]\n",
      " [   0    0 3429    0    0    0]\n",
      " [   0    0    0 3343   12    0]\n",
      " [   0    0    0    0 3508    0]\n",
      " [   0    0    0    0    0 2893]]\n",
      "Classification Report:\n",
      "              precision    recall  f1-score   support\n",
      "\n",
      "       18-30       1.00      1.00      1.00      3456\n",
      "       31-40       1.00      1.00      1.00      3359\n",
      "       41-50       1.00      1.00      1.00      3429\n",
      "       51-60       1.00      1.00      1.00      3355\n",
      "       61-70       1.00      1.00      1.00      3508\n",
      "       71-80       1.00      1.00      1.00      2893\n",
      "\n",
      "    accuracy                           1.00     20000\n",
      "   macro avg       1.00      1.00      1.00     20000\n",
      "weighted avg       1.00      1.00      1.00     20000\n",
      "\n"
     ]
    }
   ],
   "source": [
    "make_preds(regressor, X_test_encoded, y_test)"
   ]
  },
  {
   "cell_type": "markdown",
   "id": "b0756b84",
   "metadata": {},
   "source": [
    "## 2. Decision Tree"
   ]
  },
  {
   "cell_type": "code",
   "execution_count": 457,
   "id": "82fc3ed3",
   "metadata": {},
   "outputs": [],
   "source": [
    "from sklearn.tree import DecisionTreeClassifier\n",
    "regressor = DecisionTreeClassifier()"
   ]
  },
  {
   "cell_type": "code",
   "execution_count": 458,
   "id": "c9b0aea8",
   "metadata": {},
   "outputs": [
    {
     "data": {
      "text/plain": [
       "DecisionTreeClassifier()"
      ]
     },
     "execution_count": 458,
     "metadata": {},
     "output_type": "execute_result"
    }
   ],
   "source": [
    "regressor.fit(X_train_encoded, y_train)"
   ]
  },
  {
   "cell_type": "code",
   "execution_count": 459,
   "id": "3f454d91",
   "metadata": {},
   "outputs": [
    {
     "name": "stdout",
     "output_type": "stream",
     "text": [
      "Accuracy: 1.0\n",
      "Confusion Matrix:\n",
      "[[3456    0    0    0    0    0]\n",
      " [   0 3359    0    0    0    0]\n",
      " [   0    0 3429    0    0    0]\n",
      " [   0    0    0 3355    0    0]\n",
      " [   0    0    0    0 3508    0]\n",
      " [   0    0    0    0    0 2893]]\n",
      "Classification Report:\n",
      "              precision    recall  f1-score   support\n",
      "\n",
      "       18-30       1.00      1.00      1.00      3456\n",
      "       31-40       1.00      1.00      1.00      3359\n",
      "       41-50       1.00      1.00      1.00      3429\n",
      "       51-60       1.00      1.00      1.00      3355\n",
      "       61-70       1.00      1.00      1.00      3508\n",
      "       71-80       1.00      1.00      1.00      2893\n",
      "\n",
      "    accuracy                           1.00     20000\n",
      "   macro avg       1.00      1.00      1.00     20000\n",
      "weighted avg       1.00      1.00      1.00     20000\n",
      "\n"
     ]
    }
   ],
   "source": [
    "make_preds(regressor, X_test_encoded, y_test)"
   ]
  }
 ],
 "metadata": {
  "kernelspec": {
   "display_name": "Python 3 (ipykernel)",
   "language": "python",
   "name": "python3"
  },
  "language_info": {
   "codemirror_mode": {
    "name": "ipython",
    "version": 3
   },
   "file_extension": ".py",
   "mimetype": "text/x-python",
   "name": "python",
   "nbconvert_exporter": "python",
   "pygments_lexer": "ipython3",
   "version": "3.9.7"
  }
 },
 "nbformat": 4,
 "nbformat_minor": 5
}
